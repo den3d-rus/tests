{
 "cells": [
  {
   "cell_type": "markdown",
   "id": "19a1d450",
   "metadata": {},
   "source": [
    "# Тестовое задание. Дорошев."
   ]
  },
  {
   "cell_type": "markdown",
   "id": "2675b00e",
   "metadata": {},
   "source": [
    "Вывести отчёт по заявкам за произвольный период в днях (от 1 дня и более)  \n",
    "Данные нужно забрать с помощью Google Sheets API из документа https://docs.google.com/spreadsheets/d/1Ycg7zTxds9DZnDvTrFcyNNKuTUxg6Yy6WF0a8Wc02WQ  \n",
    "Формат отчёта:  \n",
    "**Dimensions**\n",
    "- канал привлечения заявки (d_utm_source)\n",
    "- клуб (d_club)\n",
    "- менеджер (d_manager)\n",
    "\n",
    "**Metrics**\n",
    "- количество заявок\n",
    "- количество мусорных заявок (на основании заявки не создан клиент)\n",
    "- количество новых заявок (не было заявок и покупок от этого клиента раньше) \n",
    "- количество покупателей (кто купил в течение недели после заявки) \n",
    "- количество новых покупателей (кто купил в течение недели после заявки, и не покупал раньше)\n",
    "- доход от покупок новых покупателей\n",
    "\n",
    "Итоговый отчёт нужно вывести в свой документ Google Sheets:\n",
    "- Данные загружать в него через Google Sheets API\n",
    "- Для итогового отчёта использовать pivot table Google Sheets\n",
    "- (Бонусное задание, необязательно) вывести итоговый отчёт в виде pivot table DataStudio\n",
    "\n",
    "Срок сдачи задания: 4 календарных дня\n",
    "Если по заданию будут вопросы, то пиши вопросы в Тг: https://t.me/theberk"
   ]
  },
  {
   "cell_type": "code",
   "execution_count": 1,
   "id": "55c45d06",
   "metadata": {},
   "outputs": [],
   "source": [
    "import pandas as pd\n",
    "import gspread\n",
    "from gspread_dataframe import set_with_dataframe"
   ]
  },
  {
   "cell_type": "markdown",
   "id": "b95f0d24",
   "metadata": {},
   "source": [
    "## Импортируем данные используя API Google Sheets"
   ]
  },
  {
   "cell_type": "code",
   "execution_count": 2,
   "id": "477ded1c",
   "metadata": {},
   "outputs": [],
   "source": [
    "gc = gspread.service_account(filename='testtask-314915-9d01d59d7961.json')\n",
    "#sh_key = gc.open_by_url('https://docs.google.com/spreadsheets/d/1ZyafGUVeXxNxcdOlCbxB15LGMLSKd6da56rRCsLLQdA/edit?usp=sharing')\n",
    "sh = gc.open_by_key('1Ycg7zTxds9DZnDvTrFcyNNKuTUxg6Yy6WF0a8Wc02WQ')"
   ]
  },
  {
   "cell_type": "markdown",
   "id": "897dc01d",
   "metadata": {},
   "source": [
    "### Transactions"
   ]
  },
  {
   "cell_type": "code",
   "execution_count": 3,
   "id": "47213dbd",
   "metadata": {},
   "outputs": [],
   "source": [
    "worksheet = sh.get_worksheet(1) #-> 0 - first sheet, 1 - second sheet etc. \n",
    "list_of_dicts = worksheet.get_all_records()\n",
    "trans =  pd.DataFrame.from_dict(list_of_dicts)"
   ]
  },
  {
   "cell_type": "code",
   "execution_count": 4,
   "id": "a1d71db9",
   "metadata": {},
   "outputs": [
    {
     "data": {
      "text/html": [
       "<div>\n",
       "<style scoped>\n",
       "    .dataframe tbody tr th:only-of-type {\n",
       "        vertical-align: middle;\n",
       "    }\n",
       "\n",
       "    .dataframe tbody tr th {\n",
       "        vertical-align: top;\n",
       "    }\n",
       "\n",
       "    .dataframe thead th {\n",
       "        text-align: right;\n",
       "    }\n",
       "</style>\n",
       "<table border=\"1\" class=\"dataframe\">\n",
       "  <thead>\n",
       "    <tr style=\"text-align: right;\">\n",
       "      <th></th>\n",
       "      <th>transaction_id</th>\n",
       "      <th>created_at</th>\n",
       "      <th>m_real_amount</th>\n",
       "      <th>l_client_id</th>\n",
       "    </tr>\n",
       "  </thead>\n",
       "  <tbody>\n",
       "    <tr>\n",
       "      <th>25471</th>\n",
       "      <td>c4ed258d-c3e2-4292-be59-06496b7f3145</td>\n",
       "      <td>2020-10-07 13:30:49</td>\n",
       "      <td>5262</td>\n",
       "      <td>a916e6d4-5ad1-11ea-abeb-c412f533dba1</td>\n",
       "    </tr>\n",
       "    <tr>\n",
       "      <th>12530</th>\n",
       "      <td>05712056-d27b-40fc-9eed-c11ae92b84f9</td>\n",
       "      <td>2020-01-31 15:23:33</td>\n",
       "      <td>61</td>\n",
       "      <td>67e73af2-1c86-11e8-8130-c412f533dba1</td>\n",
       "    </tr>\n",
       "    <tr>\n",
       "      <th>4728</th>\n",
       "      <td>2bb44867-e433-4dd3-8ba5-901827745cc3</td>\n",
       "      <td>2020-01-19 13:59:09</td>\n",
       "      <td>2608</td>\n",
       "      <td>d1e5b58a-edfb-11e7-8126-c412f533dba1</td>\n",
       "    </tr>\n",
       "  </tbody>\n",
       "</table>\n",
       "</div>"
      ],
      "text/plain": [
       "                             transaction_id           created_at  \\\n",
       "25471  c4ed258d-c3e2-4292-be59-06496b7f3145  2020-10-07 13:30:49   \n",
       "12530  05712056-d27b-40fc-9eed-c11ae92b84f9  2020-01-31 15:23:33   \n",
       "4728   2bb44867-e433-4dd3-8ba5-901827745cc3  2020-01-19 13:59:09   \n",
       "\n",
       "       m_real_amount                           l_client_id  \n",
       "25471           5262  a916e6d4-5ad1-11ea-abeb-c412f533dba1  \n",
       "12530             61  67e73af2-1c86-11e8-8130-c412f533dba1  \n",
       "4728            2608  d1e5b58a-edfb-11e7-8126-c412f533dba1  "
      ]
     },
     "execution_count": 4,
     "metadata": {},
     "output_type": "execute_result"
    }
   ],
   "source": [
    "trans.sample(3)"
   ]
  },
  {
   "cell_type": "code",
   "execution_count": 5,
   "id": "4c8c0bdb",
   "metadata": {},
   "outputs": [
    {
     "name": "stdout",
     "output_type": "stream",
     "text": [
      "<class 'pandas.core.frame.DataFrame'>\n",
      "RangeIndex: 29000 entries, 0 to 28999\n",
      "Data columns (total 4 columns):\n",
      " #   Column          Non-Null Count  Dtype \n",
      "---  ------          --------------  ----- \n",
      " 0   transaction_id  29000 non-null  object\n",
      " 1   created_at      29000 non-null  object\n",
      " 2   m_real_amount   29000 non-null  int64 \n",
      " 3   l_client_id     29000 non-null  object\n",
      "dtypes: int64(1), object(3)\n",
      "memory usage: 906.4+ KB\n"
     ]
    }
   ],
   "source": [
    "trans.info()"
   ]
  },
  {
   "cell_type": "code",
   "execution_count": 6,
   "id": "d08f41b7",
   "metadata": {},
   "outputs": [],
   "source": [
    "trans['created_at'] = pd.to_datetime(trans['created_at'])"
   ]
  },
  {
   "cell_type": "code",
   "execution_count": 7,
   "id": "acd04ce8",
   "metadata": {},
   "outputs": [
    {
     "data": {
      "text/plain": [
       "13"
      ]
     },
     "execution_count": 7,
     "metadata": {},
     "output_type": "execute_result"
    }
   ],
   "source": [
    "trans.duplicated().sum()"
   ]
  },
  {
   "cell_type": "code",
   "execution_count": 8,
   "id": "3a51c4e2",
   "metadata": {},
   "outputs": [],
   "source": [
    "trans = trans.drop_duplicates()"
   ]
  },
  {
   "cell_type": "code",
   "execution_count": 9,
   "id": "d9769a0c",
   "metadata": {},
   "outputs": [
    {
     "name": "stderr",
     "output_type": "stream",
     "text": [
      "<ipython-input-9-47fb0d76c2c1>:1: FutureWarning: Treating datetime data as categorical rather than numeric in `.describe` is deprecated and will be removed in a future version of pandas. Specify `datetime_is_numeric=True` to silence this warning and adopt the future behavior now.\n",
      "  trans.describe(include = 'all')\n"
     ]
    },
    {
     "data": {
      "text/html": [
       "<div>\n",
       "<style scoped>\n",
       "    .dataframe tbody tr th:only-of-type {\n",
       "        vertical-align: middle;\n",
       "    }\n",
       "\n",
       "    .dataframe tbody tr th {\n",
       "        vertical-align: top;\n",
       "    }\n",
       "\n",
       "    .dataframe thead th {\n",
       "        text-align: right;\n",
       "    }\n",
       "</style>\n",
       "<table border=\"1\" class=\"dataframe\">\n",
       "  <thead>\n",
       "    <tr style=\"text-align: right;\">\n",
       "      <th></th>\n",
       "      <th>transaction_id</th>\n",
       "      <th>created_at</th>\n",
       "      <th>m_real_amount</th>\n",
       "      <th>l_client_id</th>\n",
       "    </tr>\n",
       "  </thead>\n",
       "  <tbody>\n",
       "    <tr>\n",
       "      <th>count</th>\n",
       "      <td>28987</td>\n",
       "      <td>28987</td>\n",
       "      <td>28987.000000</td>\n",
       "      <td>28987</td>\n",
       "    </tr>\n",
       "    <tr>\n",
       "      <th>unique</th>\n",
       "      <td>23837</td>\n",
       "      <td>23492</td>\n",
       "      <td>NaN</td>\n",
       "      <td>9342</td>\n",
       "    </tr>\n",
       "    <tr>\n",
       "      <th>top</th>\n",
       "      <td>f409b2a7-2a1c-4da4-94af-025dc536f9c6</td>\n",
       "      <td>2020-03-01 11:19:18</td>\n",
       "      <td>NaN</td>\n",
       "      <td>8e0b4320-6fd8-11e7-80fc-c412f533dba1</td>\n",
       "    </tr>\n",
       "    <tr>\n",
       "      <th>freq</th>\n",
       "      <td>22</td>\n",
       "      <td>8</td>\n",
       "      <td>NaN</td>\n",
       "      <td>231</td>\n",
       "    </tr>\n",
       "    <tr>\n",
       "      <th>first</th>\n",
       "      <td>NaN</td>\n",
       "      <td>2020-01-01 07:59:51</td>\n",
       "      <td>NaN</td>\n",
       "      <td>NaN</td>\n",
       "    </tr>\n",
       "    <tr>\n",
       "      <th>last</th>\n",
       "      <td>NaN</td>\n",
       "      <td>2020-11-28 12:02:52</td>\n",
       "      <td>NaN</td>\n",
       "      <td>NaN</td>\n",
       "    </tr>\n",
       "    <tr>\n",
       "      <th>mean</th>\n",
       "      <td>NaN</td>\n",
       "      <td>NaN</td>\n",
       "      <td>10656.674061</td>\n",
       "      <td>NaN</td>\n",
       "    </tr>\n",
       "    <tr>\n",
       "      <th>std</th>\n",
       "      <td>NaN</td>\n",
       "      <td>NaN</td>\n",
       "      <td>19821.517220</td>\n",
       "      <td>NaN</td>\n",
       "    </tr>\n",
       "    <tr>\n",
       "      <th>min</th>\n",
       "      <td>NaN</td>\n",
       "      <td>NaN</td>\n",
       "      <td>-157019.000000</td>\n",
       "      <td>NaN</td>\n",
       "    </tr>\n",
       "    <tr>\n",
       "      <th>25%</th>\n",
       "      <td>NaN</td>\n",
       "      <td>NaN</td>\n",
       "      <td>199.000000</td>\n",
       "      <td>NaN</td>\n",
       "    </tr>\n",
       "    <tr>\n",
       "      <th>50%</th>\n",
       "      <td>NaN</td>\n",
       "      <td>NaN</td>\n",
       "      <td>1825.000000</td>\n",
       "      <td>NaN</td>\n",
       "    </tr>\n",
       "    <tr>\n",
       "      <th>75%</th>\n",
       "      <td>NaN</td>\n",
       "      <td>NaN</td>\n",
       "      <td>10309.500000</td>\n",
       "      <td>NaN</td>\n",
       "    </tr>\n",
       "    <tr>\n",
       "      <th>max</th>\n",
       "      <td>NaN</td>\n",
       "      <td>NaN</td>\n",
       "      <td>179984.000000</td>\n",
       "      <td>NaN</td>\n",
       "    </tr>\n",
       "  </tbody>\n",
       "</table>\n",
       "</div>"
      ],
      "text/plain": [
       "                              transaction_id           created_at  \\\n",
       "count                                  28987                28987   \n",
       "unique                                 23837                23492   \n",
       "top     f409b2a7-2a1c-4da4-94af-025dc536f9c6  2020-03-01 11:19:18   \n",
       "freq                                      22                    8   \n",
       "first                                    NaN  2020-01-01 07:59:51   \n",
       "last                                     NaN  2020-11-28 12:02:52   \n",
       "mean                                     NaN                  NaN   \n",
       "std                                      NaN                  NaN   \n",
       "min                                      NaN                  NaN   \n",
       "25%                                      NaN                  NaN   \n",
       "50%                                      NaN                  NaN   \n",
       "75%                                      NaN                  NaN   \n",
       "max                                      NaN                  NaN   \n",
       "\n",
       "        m_real_amount                           l_client_id  \n",
       "count    28987.000000                                 28987  \n",
       "unique            NaN                                  9342  \n",
       "top               NaN  8e0b4320-6fd8-11e7-80fc-c412f533dba1  \n",
       "freq              NaN                                   231  \n",
       "first             NaN                                   NaN  \n",
       "last              NaN                                   NaN  \n",
       "mean     10656.674061                                   NaN  \n",
       "std      19821.517220                                   NaN  \n",
       "min    -157019.000000                                   NaN  \n",
       "25%        199.000000                                   NaN  \n",
       "50%       1825.000000                                   NaN  \n",
       "75%      10309.500000                                   NaN  \n",
       "max     179984.000000                                   NaN  "
      ]
     },
     "execution_count": 9,
     "metadata": {},
     "output_type": "execute_result"
    }
   ],
   "source": [
    "trans.describe(include = 'all')"
   ]
  },
  {
   "cell_type": "markdown",
   "id": "5f638181",
   "metadata": {},
   "source": [
    "### Clients"
   ]
  },
  {
   "cell_type": "code",
   "execution_count": 10,
   "id": "1197885c",
   "metadata": {},
   "outputs": [],
   "source": [
    "worksheet = sh.get_worksheet(2) #-> 0 - first sheet, 1 - second sheet etc. \n",
    "cl =  pd.DataFrame.from_dict(worksheet.get_all_records())"
   ]
  },
  {
   "cell_type": "code",
   "execution_count": 11,
   "id": "ddf56f0d",
   "metadata": {},
   "outputs": [
    {
     "data": {
      "text/html": [
       "<div>\n",
       "<style scoped>\n",
       "    .dataframe tbody tr th:only-of-type {\n",
       "        vertical-align: middle;\n",
       "    }\n",
       "\n",
       "    .dataframe tbody tr th {\n",
       "        vertical-align: top;\n",
       "    }\n",
       "\n",
       "    .dataframe thead th {\n",
       "        text-align: right;\n",
       "    }\n",
       "</style>\n",
       "<table border=\"1\" class=\"dataframe\">\n",
       "  <thead>\n",
       "    <tr style=\"text-align: right;\">\n",
       "      <th></th>\n",
       "      <th>client_id</th>\n",
       "      <th>created_at</th>\n",
       "      <th>l_manager_id</th>\n",
       "    </tr>\n",
       "  </thead>\n",
       "  <tbody>\n",
       "    <tr>\n",
       "      <th>64488</th>\n",
       "      <td>d9ab65aa-d5b3-11e9-abbe-c412f533dba1</td>\n",
       "      <td>0001-01-01 00:00:00</td>\n",
       "      <td>543888c4-fbb3-11e9-abdc-c412f533dba1</td>\n",
       "    </tr>\n",
       "    <tr>\n",
       "      <th>48707</th>\n",
       "      <td>a4179c58-d010-11ea-ac0f-c412f533dba1</td>\n",
       "      <td>2020-07-27 17:53:12</td>\n",
       "      <td>d12fe765-b444-11e9-abb3-c412f533dba1</td>\n",
       "    </tr>\n",
       "    <tr>\n",
       "      <th>30173</th>\n",
       "      <td>64059ef5-d5a8-11e9-abbe-c412f533dba1</td>\n",
       "      <td>0001-01-01 00:00:00</td>\n",
       "      <td>b832aac3-fcda-11ea-ac18-c412f533dba1</td>\n",
       "    </tr>\n",
       "  </tbody>\n",
       "</table>\n",
       "</div>"
      ],
      "text/plain": [
       "                                  client_id           created_at  \\\n",
       "64488  d9ab65aa-d5b3-11e9-abbe-c412f533dba1  0001-01-01 00:00:00   \n",
       "48707  a4179c58-d010-11ea-ac0f-c412f533dba1  2020-07-27 17:53:12   \n",
       "30173  64059ef5-d5a8-11e9-abbe-c412f533dba1  0001-01-01 00:00:00   \n",
       "\n",
       "                               l_manager_id  \n",
       "64488  543888c4-fbb3-11e9-abdc-c412f533dba1  \n",
       "48707  d12fe765-b444-11e9-abb3-c412f533dba1  \n",
       "30173  b832aac3-fcda-11ea-ac18-c412f533dba1  "
      ]
     },
     "execution_count": 11,
     "metadata": {},
     "output_type": "execute_result"
    }
   ],
   "source": [
    "cl.sample(3)"
   ]
  },
  {
   "cell_type": "code",
   "execution_count": 12,
   "id": "d82bafc9",
   "metadata": {},
   "outputs": [
    {
     "name": "stdout",
     "output_type": "stream",
     "text": [
      "<class 'pandas.core.frame.DataFrame'>\n",
      "RangeIndex: 75766 entries, 0 to 75765\n",
      "Data columns (total 3 columns):\n",
      " #   Column        Non-Null Count  Dtype \n",
      "---  ------        --------------  ----- \n",
      " 0   client_id     75766 non-null  object\n",
      " 1   created_at    75766 non-null  object\n",
      " 2   l_manager_id  75766 non-null  object\n",
      "dtypes: object(3)\n",
      "memory usage: 1.7+ MB\n"
     ]
    }
   ],
   "source": [
    "cl.info()"
   ]
  },
  {
   "cell_type": "code",
   "execution_count": 13,
   "id": "eaadde1a",
   "metadata": {},
   "outputs": [
    {
     "data": {
      "text/plain": [
       "0"
      ]
     },
     "execution_count": 13,
     "metadata": {},
     "output_type": "execute_result"
    }
   ],
   "source": [
    "cl.duplicated().sum()"
   ]
  },
  {
   "cell_type": "code",
   "execution_count": 14,
   "id": "ad17f05d",
   "metadata": {},
   "outputs": [
    {
     "data": {
      "text/html": [
       "<div>\n",
       "<style scoped>\n",
       "    .dataframe tbody tr th:only-of-type {\n",
       "        vertical-align: middle;\n",
       "    }\n",
       "\n",
       "    .dataframe tbody tr th {\n",
       "        vertical-align: top;\n",
       "    }\n",
       "\n",
       "    .dataframe thead th {\n",
       "        text-align: right;\n",
       "    }\n",
       "</style>\n",
       "<table border=\"1\" class=\"dataframe\">\n",
       "  <thead>\n",
       "    <tr style=\"text-align: right;\">\n",
       "      <th></th>\n",
       "      <th>client_id</th>\n",
       "      <th>created_at</th>\n",
       "      <th>l_manager_id</th>\n",
       "    </tr>\n",
       "  </thead>\n",
       "  <tbody>\n",
       "    <tr>\n",
       "      <th>count</th>\n",
       "      <td>75766</td>\n",
       "      <td>75766</td>\n",
       "      <td>75766</td>\n",
       "    </tr>\n",
       "    <tr>\n",
       "      <th>unique</th>\n",
       "      <td>75766</td>\n",
       "      <td>14851</td>\n",
       "      <td>44</td>\n",
       "    </tr>\n",
       "    <tr>\n",
       "      <th>top</th>\n",
       "      <td>4e4bd42a-d5b3-11e9-abbe-c412f533dba1</td>\n",
       "      <td>0001-01-01 00:00:00</td>\n",
       "      <td>9a87c608-52dc-11ea-abeb-c412f533dba1</td>\n",
       "    </tr>\n",
       "    <tr>\n",
       "      <th>freq</th>\n",
       "      <td>1</td>\n",
       "      <td>29215</td>\n",
       "      <td>11373</td>\n",
       "    </tr>\n",
       "  </tbody>\n",
       "</table>\n",
       "</div>"
      ],
      "text/plain": [
       "                                   client_id           created_at  \\\n",
       "count                                  75766                75766   \n",
       "unique                                 75766                14851   \n",
       "top     4e4bd42a-d5b3-11e9-abbe-c412f533dba1  0001-01-01 00:00:00   \n",
       "freq                                       1                29215   \n",
       "\n",
       "                                l_manager_id  \n",
       "count                                  75766  \n",
       "unique                                    44  \n",
       "top     9a87c608-52dc-11ea-abeb-c412f533dba1  \n",
       "freq                                   11373  "
      ]
     },
     "execution_count": 14,
     "metadata": {},
     "output_type": "execute_result"
    }
   ],
   "source": [
    "cl.describe(include = 'all')"
   ]
  },
  {
   "cell_type": "markdown",
   "id": "5ab97c0f",
   "metadata": {},
   "source": [
    "### Managers"
   ]
  },
  {
   "cell_type": "code",
   "execution_count": 15,
   "id": "8495f517",
   "metadata": {},
   "outputs": [],
   "source": [
    "worksheet = sh.get_worksheet(3) #-> 0 - first sheet, 1 - second sheet etc. \n",
    "man =  pd.DataFrame.from_dict(worksheet.get_all_records())"
   ]
  },
  {
   "cell_type": "code",
   "execution_count": 16,
   "id": "36261a10",
   "metadata": {},
   "outputs": [
    {
     "data": {
      "text/html": [
       "<div>\n",
       "<style scoped>\n",
       "    .dataframe tbody tr th:only-of-type {\n",
       "        vertical-align: middle;\n",
       "    }\n",
       "\n",
       "    .dataframe tbody tr th {\n",
       "        vertical-align: top;\n",
       "    }\n",
       "\n",
       "    .dataframe thead th {\n",
       "        text-align: right;\n",
       "    }\n",
       "</style>\n",
       "<table border=\"1\" class=\"dataframe\">\n",
       "  <thead>\n",
       "    <tr style=\"text-align: right;\">\n",
       "      <th></th>\n",
       "      <th>manager_id</th>\n",
       "      <th>d_manager</th>\n",
       "      <th>d_club</th>\n",
       "    </tr>\n",
       "  </thead>\n",
       "  <tbody>\n",
       "    <tr>\n",
       "      <th>0</th>\n",
       "      <td>1e9c5562-0cfc-11ea-abe1-c412f533dba1</td>\n",
       "      <td>manager #8</td>\n",
       "      <td>club #2</td>\n",
       "    </tr>\n",
       "    <tr>\n",
       "      <th>1</th>\n",
       "      <td>43756fa4-57a0-11e9-ab9a-c412f533dba1</td>\n",
       "      <td>manager #11</td>\n",
       "      <td>club #4</td>\n",
       "    </tr>\n",
       "    <tr>\n",
       "      <th>2</th>\n",
       "      <td>543888c4-fbb3-11e9-abdc-c412f533dba1</td>\n",
       "      <td>manager #12</td>\n",
       "      <td>club #3</td>\n",
       "    </tr>\n",
       "    <tr>\n",
       "      <th>3</th>\n",
       "      <td>5dd88f32-6501-11ea-abf3-c412f533dba1</td>\n",
       "      <td>manager #10</td>\n",
       "      <td>club #2</td>\n",
       "    </tr>\n",
       "    <tr>\n",
       "      <th>4</th>\n",
       "      <td>9a87c608-52dc-11ea-abeb-c412f533dba1</td>\n",
       "      <td>manager #9</td>\n",
       "      <td>club #3</td>\n",
       "    </tr>\n",
       "    <tr>\n",
       "      <th>5</th>\n",
       "      <td>abed5496-ca88-11e9-abb8-c412f533dba1</td>\n",
       "      <td>manager #5</td>\n",
       "      <td>club #4</td>\n",
       "    </tr>\n",
       "    <tr>\n",
       "      <th>6</th>\n",
       "      <td>ad52c7a8-a752-11e7-8115-c412f533dba1</td>\n",
       "      <td>manager #7</td>\n",
       "      <td>club #1</td>\n",
       "    </tr>\n",
       "    <tr>\n",
       "      <th>7</th>\n",
       "      <td>b55a233c-5df6-11ea-abf2-c412f533dba1</td>\n",
       "      <td>manager #2</td>\n",
       "      <td>club #4</td>\n",
       "    </tr>\n",
       "    <tr>\n",
       "      <th>8</th>\n",
       "      <td>b832aac3-fcda-11ea-ac18-c412f533dba1</td>\n",
       "      <td>manager #13</td>\n",
       "      <td>club #3</td>\n",
       "    </tr>\n",
       "    <tr>\n",
       "      <th>9</th>\n",
       "      <td>d12fe765-b444-11e9-abb3-c412f533dba1</td>\n",
       "      <td>manager #1</td>\n",
       "      <td>club #1</td>\n",
       "    </tr>\n",
       "    <tr>\n",
       "      <th>10</th>\n",
       "      <td>db06b8bc-bfb2-11e7-8116-c412f533dba1</td>\n",
       "      <td>manager #4</td>\n",
       "      <td>club #2</td>\n",
       "    </tr>\n",
       "    <tr>\n",
       "      <th>11</th>\n",
       "      <td>e463b03f-2d74-11eb-ac1f-c412f533dba1</td>\n",
       "      <td>manager #3</td>\n",
       "      <td>club #1</td>\n",
       "    </tr>\n",
       "    <tr>\n",
       "      <th>12</th>\n",
       "      <td>f44596c6-12cd-11eb-ac1c-c412f533dba1</td>\n",
       "      <td>manager #6</td>\n",
       "      <td>club #2</td>\n",
       "    </tr>\n",
       "  </tbody>\n",
       "</table>\n",
       "</div>"
      ],
      "text/plain": [
       "                              manager_id    d_manager   d_club\n",
       "0   1e9c5562-0cfc-11ea-abe1-c412f533dba1   manager #8  club #2\n",
       "1   43756fa4-57a0-11e9-ab9a-c412f533dba1  manager #11  club #4\n",
       "2   543888c4-fbb3-11e9-abdc-c412f533dba1  manager #12  club #3\n",
       "3   5dd88f32-6501-11ea-abf3-c412f533dba1  manager #10  club #2\n",
       "4   9a87c608-52dc-11ea-abeb-c412f533dba1   manager #9  club #3\n",
       "5   abed5496-ca88-11e9-abb8-c412f533dba1   manager #5  club #4\n",
       "6   ad52c7a8-a752-11e7-8115-c412f533dba1   manager #7  club #1\n",
       "7   b55a233c-5df6-11ea-abf2-c412f533dba1   manager #2  club #4\n",
       "8   b832aac3-fcda-11ea-ac18-c412f533dba1  manager #13  club #3\n",
       "9   d12fe765-b444-11e9-abb3-c412f533dba1   manager #1  club #1\n",
       "10  db06b8bc-bfb2-11e7-8116-c412f533dba1   manager #4  club #2\n",
       "11  e463b03f-2d74-11eb-ac1f-c412f533dba1   manager #3  club #1\n",
       "12  f44596c6-12cd-11eb-ac1c-c412f533dba1   manager #6  club #2"
      ]
     },
     "execution_count": 16,
     "metadata": {},
     "output_type": "execute_result"
    }
   ],
   "source": [
    "man"
   ]
  },
  {
   "cell_type": "code",
   "execution_count": 17,
   "id": "8b2e9e95",
   "metadata": {},
   "outputs": [
    {
     "name": "stdout",
     "output_type": "stream",
     "text": [
      "<class 'pandas.core.frame.DataFrame'>\n",
      "RangeIndex: 13 entries, 0 to 12\n",
      "Data columns (total 3 columns):\n",
      " #   Column      Non-Null Count  Dtype \n",
      "---  ------      --------------  ----- \n",
      " 0   manager_id  13 non-null     object\n",
      " 1   d_manager   13 non-null     object\n",
      " 2   d_club      13 non-null     object\n",
      "dtypes: object(3)\n",
      "memory usage: 440.0+ bytes\n"
     ]
    }
   ],
   "source": [
    "man.info()"
   ]
  },
  {
   "cell_type": "code",
   "execution_count": 18,
   "id": "2188ce30",
   "metadata": {},
   "outputs": [
    {
     "data": {
      "text/plain": [
       "0"
      ]
     },
     "execution_count": 18,
     "metadata": {},
     "output_type": "execute_result"
    }
   ],
   "source": [
    "man.duplicated().sum()"
   ]
  },
  {
   "cell_type": "code",
   "execution_count": 19,
   "id": "06951bbb",
   "metadata": {
    "scrolled": false
   },
   "outputs": [
    {
     "data": {
      "text/html": [
       "<div>\n",
       "<style scoped>\n",
       "    .dataframe tbody tr th:only-of-type {\n",
       "        vertical-align: middle;\n",
       "    }\n",
       "\n",
       "    .dataframe tbody tr th {\n",
       "        vertical-align: top;\n",
       "    }\n",
       "\n",
       "    .dataframe thead th {\n",
       "        text-align: right;\n",
       "    }\n",
       "</style>\n",
       "<table border=\"1\" class=\"dataframe\">\n",
       "  <thead>\n",
       "    <tr style=\"text-align: right;\">\n",
       "      <th></th>\n",
       "      <th>manager_id</th>\n",
       "      <th>d_manager</th>\n",
       "      <th>d_club</th>\n",
       "    </tr>\n",
       "  </thead>\n",
       "  <tbody>\n",
       "    <tr>\n",
       "      <th>count</th>\n",
       "      <td>13</td>\n",
       "      <td>13</td>\n",
       "      <td>13</td>\n",
       "    </tr>\n",
       "    <tr>\n",
       "      <th>unique</th>\n",
       "      <td>13</td>\n",
       "      <td>13</td>\n",
       "      <td>4</td>\n",
       "    </tr>\n",
       "    <tr>\n",
       "      <th>top</th>\n",
       "      <td>5dd88f32-6501-11ea-abf3-c412f533dba1</td>\n",
       "      <td>manager #10</td>\n",
       "      <td>club #2</td>\n",
       "    </tr>\n",
       "    <tr>\n",
       "      <th>freq</th>\n",
       "      <td>1</td>\n",
       "      <td>1</td>\n",
       "      <td>4</td>\n",
       "    </tr>\n",
       "  </tbody>\n",
       "</table>\n",
       "</div>"
      ],
      "text/plain": [
       "                                  manager_id    d_manager   d_club\n",
       "count                                     13           13       13\n",
       "unique                                    13           13        4\n",
       "top     5dd88f32-6501-11ea-abf3-c412f533dba1  manager #10  club #2\n",
       "freq                                       1            1        4"
      ]
     },
     "execution_count": 19,
     "metadata": {},
     "output_type": "execute_result"
    }
   ],
   "source": [
    "man.describe(include = 'all')"
   ]
  },
  {
   "cell_type": "markdown",
   "id": "a8ee1013",
   "metadata": {},
   "source": [
    "### Leads"
   ]
  },
  {
   "cell_type": "code",
   "execution_count": 20,
   "id": "7a5a18ba",
   "metadata": {},
   "outputs": [],
   "source": [
    "worksheet = sh.get_worksheet(4) #-> 0 - first sheet, 1 - second sheet etc. \n",
    "leads =  pd.DataFrame.from_dict(worksheet.get_all_records())"
   ]
  },
  {
   "cell_type": "code",
   "execution_count": 21,
   "id": "622ecafd",
   "metadata": {},
   "outputs": [
    {
     "data": {
      "text/html": [
       "<div>\n",
       "<style scoped>\n",
       "    .dataframe tbody tr th:only-of-type {\n",
       "        vertical-align: middle;\n",
       "    }\n",
       "\n",
       "    .dataframe tbody tr th {\n",
       "        vertical-align: top;\n",
       "    }\n",
       "\n",
       "    .dataframe thead th {\n",
       "        text-align: right;\n",
       "    }\n",
       "</style>\n",
       "<table border=\"1\" class=\"dataframe\">\n",
       "  <thead>\n",
       "    <tr style=\"text-align: right;\">\n",
       "      <th></th>\n",
       "      <th>lead_id</th>\n",
       "      <th>created_at</th>\n",
       "      <th>d_utm_medium</th>\n",
       "      <th>d_utm_source</th>\n",
       "      <th>l_manager_id</th>\n",
       "      <th>l_client_id</th>\n",
       "    </tr>\n",
       "  </thead>\n",
       "  <tbody>\n",
       "    <tr>\n",
       "      <th>442</th>\n",
       "      <td>1fdfa8c1-1df7-11eb-ac1d-c412f533dba1</td>\n",
       "      <td>2020-11-03 21:08:00</td>\n",
       "      <td>cpc</td>\n",
       "      <td>instagram</td>\n",
       "      <td>db06b8bc-bfb2-11e7-8116-c412f533dba1</td>\n",
       "      <td>96f173d1-1e6a-11eb-ac1d-c412f533dba1</td>\n",
       "    </tr>\n",
       "    <tr>\n",
       "      <th>1493</th>\n",
       "      <td>74456a8d-06de-11eb-ac18-c412f533dba1</td>\n",
       "      <td>2020-10-05 11:43:28</td>\n",
       "      <td>utm_medium</td>\n",
       "      <td>utm_source</td>\n",
       "      <td>9a87c608-52dc-11ea-abeb-c412f533dba1</td>\n",
       "      <td>00000000-0000-0000-0000-000000000000</td>\n",
       "    </tr>\n",
       "    <tr>\n",
       "      <th>2790</th>\n",
       "      <td>d88d5843-1d1a-11eb-ac1d-c412f533dba1</td>\n",
       "      <td>2020-11-02 18:51:11</td>\n",
       "      <td></td>\n",
       "      <td></td>\n",
       "      <td>9a87c608-52dc-11ea-abeb-c412f533dba1</td>\n",
       "      <td>b0a85f5c-1390-11eb-ac1d-c412f533dba1</td>\n",
       "    </tr>\n",
       "    <tr>\n",
       "      <th>558</th>\n",
       "      <td>2a8485fb-0b21-11eb-ac1a-c412f533dba1</td>\n",
       "      <td>2020-10-10 21:51:04</td>\n",
       "      <td></td>\n",
       "      <td></td>\n",
       "      <td>43756fa4-57a0-11e9-ab9a-c412f533dba1</td>\n",
       "      <td>00000000-0000-0000-0000-000000000000</td>\n",
       "    </tr>\n",
       "    <tr>\n",
       "      <th>2888</th>\n",
       "      <td>df8f3bba-22c0-11eb-ac1d-c412f533dba1</td>\n",
       "      <td>2020-11-09 23:22:15</td>\n",
       "      <td></td>\n",
       "      <td></td>\n",
       "      <td>00000000-0000-0000-0000-000000000000</td>\n",
       "      <td>00000000-0000-0000-0000-000000000000</td>\n",
       "    </tr>\n",
       "    <tr>\n",
       "      <th>3144</th>\n",
       "      <td>f17a239d-2e0d-11eb-ac1f-c412f533dba1</td>\n",
       "      <td>2020-11-24 08:31:39</td>\n",
       "      <td></td>\n",
       "      <td></td>\n",
       "      <td>00000000-0000-0000-0000-000000000000</td>\n",
       "      <td>00000000-0000-0000-0000-000000000000</td>\n",
       "    </tr>\n",
       "    <tr>\n",
       "      <th>868</th>\n",
       "      <td>45a59480-12c8-11eb-ac1c-c412f533dba1</td>\n",
       "      <td>2020-10-20 15:34:58</td>\n",
       "      <td>sms</td>\n",
       "      <td>viber</td>\n",
       "      <td>9a87c608-52dc-11ea-abeb-c412f533dba1</td>\n",
       "      <td>67964f73-d5af-11e9-abbe-c412f533dba1</td>\n",
       "    </tr>\n",
       "    <tr>\n",
       "      <th>1707</th>\n",
       "      <td>850458d1-1d90-11eb-ac1d-c412f533dba1</td>\n",
       "      <td>2020-11-03 08:53:31</td>\n",
       "      <td>cpc</td>\n",
       "      <td>instagram</td>\n",
       "      <td>43756fa4-57a0-11e9-ab9a-c412f533dba1</td>\n",
       "      <td>e20f3e8e-1d96-11eb-ac1d-c412f533dba1</td>\n",
       "    </tr>\n",
       "    <tr>\n",
       "      <th>2527</th>\n",
       "      <td>c46157db-21be-11eb-ac1d-c412f533dba1</td>\n",
       "      <td>2020-11-08 16:34:43</td>\n",
       "      <td></td>\n",
       "      <td></td>\n",
       "      <td>b55a233c-5df6-11ea-abf2-c412f533dba1</td>\n",
       "      <td>78ef5bfe-21c2-11eb-ac1d-c412f533dba1</td>\n",
       "    </tr>\n",
       "    <tr>\n",
       "      <th>2089</th>\n",
       "      <td>a2d68d00-30d3-11eb-ac1f-c412f533dba1</td>\n",
       "      <td>2020-11-27 21:11:50</td>\n",
       "      <td>utm_medium</td>\n",
       "      <td>vk</td>\n",
       "      <td>db06b8bc-bfb2-11e7-8116-c412f533dba1</td>\n",
       "      <td>b061454c-6fd7-11e7-80fc-c412f533dba1</td>\n",
       "    </tr>\n",
       "  </tbody>\n",
       "</table>\n",
       "</div>"
      ],
      "text/plain": [
       "                                   lead_id           created_at d_utm_medium  \\\n",
       "442   1fdfa8c1-1df7-11eb-ac1d-c412f533dba1  2020-11-03 21:08:00          cpc   \n",
       "1493  74456a8d-06de-11eb-ac18-c412f533dba1  2020-10-05 11:43:28   utm_medium   \n",
       "2790  d88d5843-1d1a-11eb-ac1d-c412f533dba1  2020-11-02 18:51:11                \n",
       "558   2a8485fb-0b21-11eb-ac1a-c412f533dba1  2020-10-10 21:51:04                \n",
       "2888  df8f3bba-22c0-11eb-ac1d-c412f533dba1  2020-11-09 23:22:15                \n",
       "3144  f17a239d-2e0d-11eb-ac1f-c412f533dba1  2020-11-24 08:31:39                \n",
       "868   45a59480-12c8-11eb-ac1c-c412f533dba1  2020-10-20 15:34:58          sms   \n",
       "1707  850458d1-1d90-11eb-ac1d-c412f533dba1  2020-11-03 08:53:31          cpc   \n",
       "2527  c46157db-21be-11eb-ac1d-c412f533dba1  2020-11-08 16:34:43                \n",
       "2089  a2d68d00-30d3-11eb-ac1f-c412f533dba1  2020-11-27 21:11:50   utm_medium   \n",
       "\n",
       "     d_utm_source                          l_manager_id  \\\n",
       "442     instagram  db06b8bc-bfb2-11e7-8116-c412f533dba1   \n",
       "1493   utm_source  9a87c608-52dc-11ea-abeb-c412f533dba1   \n",
       "2790               9a87c608-52dc-11ea-abeb-c412f533dba1   \n",
       "558                43756fa4-57a0-11e9-ab9a-c412f533dba1   \n",
       "2888               00000000-0000-0000-0000-000000000000   \n",
       "3144               00000000-0000-0000-0000-000000000000   \n",
       "868         viber  9a87c608-52dc-11ea-abeb-c412f533dba1   \n",
       "1707    instagram  43756fa4-57a0-11e9-ab9a-c412f533dba1   \n",
       "2527               b55a233c-5df6-11ea-abf2-c412f533dba1   \n",
       "2089           vk  db06b8bc-bfb2-11e7-8116-c412f533dba1   \n",
       "\n",
       "                               l_client_id  \n",
       "442   96f173d1-1e6a-11eb-ac1d-c412f533dba1  \n",
       "1493  00000000-0000-0000-0000-000000000000  \n",
       "2790  b0a85f5c-1390-11eb-ac1d-c412f533dba1  \n",
       "558   00000000-0000-0000-0000-000000000000  \n",
       "2888  00000000-0000-0000-0000-000000000000  \n",
       "3144  00000000-0000-0000-0000-000000000000  \n",
       "868   67964f73-d5af-11e9-abbe-c412f533dba1  \n",
       "1707  e20f3e8e-1d96-11eb-ac1d-c412f533dba1  \n",
       "2527  78ef5bfe-21c2-11eb-ac1d-c412f533dba1  \n",
       "2089  b061454c-6fd7-11e7-80fc-c412f533dba1  "
      ]
     },
     "execution_count": 21,
     "metadata": {},
     "output_type": "execute_result"
    }
   ],
   "source": [
    "leads.sample(10)"
   ]
  },
  {
   "cell_type": "code",
   "execution_count": 22,
   "id": "6c407db3",
   "metadata": {},
   "outputs": [
    {
     "name": "stdout",
     "output_type": "stream",
     "text": [
      "<class 'pandas.core.frame.DataFrame'>\n",
      "RangeIndex: 3337 entries, 0 to 3336\n",
      "Data columns (total 6 columns):\n",
      " #   Column        Non-Null Count  Dtype \n",
      "---  ------        --------------  ----- \n",
      " 0   lead_id       3337 non-null   object\n",
      " 1   created_at    3337 non-null   object\n",
      " 2   d_utm_medium  3337 non-null   object\n",
      " 3   d_utm_source  3337 non-null   object\n",
      " 4   l_manager_id  3337 non-null   object\n",
      " 5   l_client_id   3337 non-null   object\n",
      "dtypes: object(6)\n",
      "memory usage: 156.5+ KB\n"
     ]
    }
   ],
   "source": [
    "leads.info()"
   ]
  },
  {
   "cell_type": "code",
   "execution_count": 23,
   "id": "d30935d1",
   "metadata": {},
   "outputs": [],
   "source": [
    "leads['created_at'] = pd.to_datetime(leads['created_at'])"
   ]
  },
  {
   "cell_type": "code",
   "execution_count": 24,
   "id": "58160e6e",
   "metadata": {},
   "outputs": [
    {
     "data": {
      "text/plain": [
       "0"
      ]
     },
     "execution_count": 24,
     "metadata": {},
     "output_type": "execute_result"
    }
   ],
   "source": [
    "leads.duplicated().sum()"
   ]
  },
  {
   "cell_type": "code",
   "execution_count": 25,
   "id": "cd3f1686",
   "metadata": {
    "scrolled": true
   },
   "outputs": [
    {
     "name": "stderr",
     "output_type": "stream",
     "text": [
      "<ipython-input-25-9bde7c60835e>:1: FutureWarning: Treating datetime data as categorical rather than numeric in `.describe` is deprecated and will be removed in a future version of pandas. Specify `datetime_is_numeric=True` to silence this warning and adopt the future behavior now.\n",
      "  leads.describe(include = 'all')\n"
     ]
    },
    {
     "data": {
      "text/html": [
       "<div>\n",
       "<style scoped>\n",
       "    .dataframe tbody tr th:only-of-type {\n",
       "        vertical-align: middle;\n",
       "    }\n",
       "\n",
       "    .dataframe tbody tr th {\n",
       "        vertical-align: top;\n",
       "    }\n",
       "\n",
       "    .dataframe thead th {\n",
       "        text-align: right;\n",
       "    }\n",
       "</style>\n",
       "<table border=\"1\" class=\"dataframe\">\n",
       "  <thead>\n",
       "    <tr style=\"text-align: right;\">\n",
       "      <th></th>\n",
       "      <th>lead_id</th>\n",
       "      <th>created_at</th>\n",
       "      <th>d_utm_medium</th>\n",
       "      <th>d_utm_source</th>\n",
       "      <th>l_manager_id</th>\n",
       "      <th>l_client_id</th>\n",
       "    </tr>\n",
       "  </thead>\n",
       "  <tbody>\n",
       "    <tr>\n",
       "      <th>count</th>\n",
       "      <td>3337</td>\n",
       "      <td>3337</td>\n",
       "      <td>3337</td>\n",
       "      <td>3337</td>\n",
       "      <td>3337</td>\n",
       "      <td>3337</td>\n",
       "    </tr>\n",
       "    <tr>\n",
       "      <th>unique</th>\n",
       "      <td>3337</td>\n",
       "      <td>3289</td>\n",
       "      <td>11</td>\n",
       "      <td>13</td>\n",
       "      <td>33</td>\n",
       "      <td>2183</td>\n",
       "    </tr>\n",
       "    <tr>\n",
       "      <th>top</th>\n",
       "      <td>270de5db-2751-11eb-ac1d-c412f533dba1</td>\n",
       "      <td>2020-10-19 12:11:53</td>\n",
       "      <td>cpc</td>\n",
       "      <td></td>\n",
       "      <td>00000000-0000-0000-0000-000000000000</td>\n",
       "      <td>00000000-0000-0000-0000-000000000000</td>\n",
       "    </tr>\n",
       "    <tr>\n",
       "      <th>freq</th>\n",
       "      <td>1</td>\n",
       "      <td>5</td>\n",
       "      <td>1252</td>\n",
       "      <td>1243</td>\n",
       "      <td>491</td>\n",
       "      <td>824</td>\n",
       "    </tr>\n",
       "    <tr>\n",
       "      <th>first</th>\n",
       "      <td>NaN</td>\n",
       "      <td>2020-10-01 00:02:55</td>\n",
       "      <td>NaN</td>\n",
       "      <td>NaN</td>\n",
       "      <td>NaN</td>\n",
       "      <td>NaN</td>\n",
       "    </tr>\n",
       "    <tr>\n",
       "      <th>last</th>\n",
       "      <td>NaN</td>\n",
       "      <td>2020-11-28 14:51:36</td>\n",
       "      <td>NaN</td>\n",
       "      <td>NaN</td>\n",
       "      <td>NaN</td>\n",
       "      <td>NaN</td>\n",
       "    </tr>\n",
       "  </tbody>\n",
       "</table>\n",
       "</div>"
      ],
      "text/plain": [
       "                                     lead_id           created_at  \\\n",
       "count                                   3337                 3337   \n",
       "unique                                  3337                 3289   \n",
       "top     270de5db-2751-11eb-ac1d-c412f533dba1  2020-10-19 12:11:53   \n",
       "freq                                       1                    5   \n",
       "first                                    NaN  2020-10-01 00:02:55   \n",
       "last                                     NaN  2020-11-28 14:51:36   \n",
       "\n",
       "       d_utm_medium d_utm_source                          l_manager_id  \\\n",
       "count          3337         3337                                  3337   \n",
       "unique           11           13                                    33   \n",
       "top             cpc               00000000-0000-0000-0000-000000000000   \n",
       "freq           1252         1243                                   491   \n",
       "first           NaN          NaN                                   NaN   \n",
       "last            NaN          NaN                                   NaN   \n",
       "\n",
       "                                 l_client_id  \n",
       "count                                   3337  \n",
       "unique                                  2183  \n",
       "top     00000000-0000-0000-0000-000000000000  \n",
       "freq                                     824  \n",
       "first                                    NaN  \n",
       "last                                     NaN  "
      ]
     },
     "execution_count": 25,
     "metadata": {},
     "output_type": "execute_result"
    }
   ],
   "source": [
    "leads.describe(include = 'all')"
   ]
  },
  {
   "cell_type": "markdown",
   "id": "aef6db99",
   "metadata": {},
   "source": [
    "посмотрим на значения в столбце d_utm_source:"
   ]
  },
  {
   "cell_type": "code",
   "execution_count": 26,
   "id": "d8d9ec3e",
   "metadata": {},
   "outputs": [
    {
     "data": {
      "text/plain": [
       "array(['viber', 'instagram', '', 'vk', 'sms', 'google', 'utm_source',\n",
       "       'insta', 'vkontakte', 'yandex', 'ycard',\n",
       "       'ycard#!/tproduct/225696739-1498486363994', 'ig'], dtype=object)"
      ]
     },
     "execution_count": 26,
     "metadata": {},
     "output_type": "execute_result"
    }
   ],
   "source": [
    "leads['d_utm_source'].unique()"
   ]
  },
  {
   "cell_type": "markdown",
   "id": "1b518482",
   "metadata": {},
   "source": [
    "Нужно объеденить:\n",
    "1. 'viber', \n",
    "2. 'instagram', 'insta'\n",
    "3. 'vkontakte', 'vk', \n",
    "4. 'sms', \n",
    "5. 'google', \n",
    "6. 'utm_source',\n",
    "7. 'yandex', \n",
    "9. 'ycard', 'ycard#!/tproduct/225696739-1498486363994', \n",
    "10. 'ig'\n",
    "11. '' - unknown"
   ]
  },
  {
   "cell_type": "code",
   "execution_count": 27,
   "id": "63fdf16c",
   "metadata": {},
   "outputs": [],
   "source": [
    "leads['d_utm_source'] = leads['d_utm_source'].replace('vk', 'vkontakte')\n",
    "leads['d_utm_source'] = leads['d_utm_source'].replace('insta', 'instagram')\n",
    "leads['d_utm_source'] = leads['d_utm_source'].replace('ycard#!/tproduct/225696739-1498486363994', 'ycard')\n",
    "leads['d_utm_source'] = leads['d_utm_source'].replace('', 'unknown')"
   ]
  },
  {
   "cell_type": "markdown",
   "id": "6753e3b1",
   "metadata": {},
   "source": [
    "# Расчет"
   ]
  },
  {
   "cell_type": "markdown",
   "id": "462e2baf",
   "metadata": {},
   "source": [
    "Соберем основной датафрейм на основе leads. Начнем с выбора временных границ:\n",
    "Пока просто зададим границы дат, в последующем будем брать их командной строки при запуске пайплайн."
   ]
  },
  {
   "cell_type": "code",
   "execution_count": 28,
   "id": "d8e034db",
   "metadata": {},
   "outputs": [],
   "source": [
    "start_dt = '2020-10-15'\n",
    "end_dt = '2020-11-14'"
   ]
  },
  {
   "cell_type": "code",
   "execution_count": 29,
   "id": "3c3a5325",
   "metadata": {},
   "outputs": [],
   "source": [
    "df = leads.query('@start_dt <= created_at <= @end_dt')"
   ]
  },
  {
   "cell_type": "markdown",
   "id": "abe8a526",
   "metadata": {},
   "source": [
    "Для определения \"новизны\" клиента добавим в него для каждого client_id самые ранние даты лидов и транзакций из полных датафреймов trans и leads, дальше сравнивая их с start_dt заполним столбец 'new_client_id' - если есть даты меньше start_dt значит клиент \"старый\", если нет, то значит он появился в отчетный период \"start_dt - end_dt\" и будет \"новым\"."
   ]
  },
  {
   "cell_type": "code",
   "execution_count": 30,
   "id": "f7754057",
   "metadata": {},
   "outputs": [],
   "source": [
    "min_trans_dt = trans.groupby('l_client_id').agg({'created_at':'min'})\\\n",
    "                                            .reset_index()\n",
    "min_trans_dt.columns = ['l_client_id','min_trans_dt']"
   ]
  },
  {
   "cell_type": "code",
   "execution_count": 31,
   "id": "86845497",
   "metadata": {},
   "outputs": [],
   "source": [
    "min_lead_dt = leads.groupby('l_client_id').agg({'created_at':'min'}).reset_index()\n",
    "min_lead_dt.columns = ['l_client_id','min_lead_dt']"
   ]
  },
  {
   "cell_type": "code",
   "execution_count": 32,
   "id": "6f275901",
   "metadata": {},
   "outputs": [],
   "source": [
    "df = df.merge(min_trans_dt, how='left')\\\n",
    "        .merge(min_lead_dt, how='left')"
   ]
  },
  {
   "cell_type": "code",
   "execution_count": 33,
   "id": "b259f025",
   "metadata": {},
   "outputs": [],
   "source": [
    "df['new_lead_num'] = 0\n",
    "df['new_lead_num'] = df['new_lead_num'].where(df['min_lead_dt'] < start_dt, 1)"
   ]
  },
  {
   "cell_type": "markdown",
   "id": "9ce6a170",
   "metadata": {},
   "source": [
    "Добавим \"мусорный\" признак"
   ]
  },
  {
   "cell_type": "code",
   "execution_count": 34,
   "id": "62c2ca81",
   "metadata": {},
   "outputs": [],
   "source": [
    "df['bed_lead_num'] = 0\n",
    "df['bed_lead_num'] = df['bed_lead_num'].where(df['l_client_id'] != '00000000-0000-0000-0000-000000000000', 1)"
   ]
  },
  {
   "cell_type": "code",
   "execution_count": 35,
   "id": "b5eeab32",
   "metadata": {},
   "outputs": [
    {
     "data": {
      "text/html": [
       "<div>\n",
       "<style scoped>\n",
       "    .dataframe tbody tr th:only-of-type {\n",
       "        vertical-align: middle;\n",
       "    }\n",
       "\n",
       "    .dataframe tbody tr th {\n",
       "        vertical-align: top;\n",
       "    }\n",
       "\n",
       "    .dataframe thead th {\n",
       "        text-align: right;\n",
       "    }\n",
       "</style>\n",
       "<table border=\"1\" class=\"dataframe\">\n",
       "  <thead>\n",
       "    <tr style=\"text-align: right;\">\n",
       "      <th></th>\n",
       "      <th>lead_id</th>\n",
       "      <th>created_at</th>\n",
       "      <th>d_utm_medium</th>\n",
       "      <th>d_utm_source</th>\n",
       "      <th>l_manager_id</th>\n",
       "      <th>l_client_id</th>\n",
       "      <th>min_trans_dt</th>\n",
       "      <th>min_lead_dt</th>\n",
       "      <th>new_lead_num</th>\n",
       "      <th>bed_lead_num</th>\n",
       "    </tr>\n",
       "  </thead>\n",
       "  <tbody>\n",
       "    <tr>\n",
       "      <th>0</th>\n",
       "      <td>00678e71-0fb9-11eb-ac1a-c412f533dba1</td>\n",
       "      <td>2020-10-16 18:08:09</td>\n",
       "      <td>sms</td>\n",
       "      <td>viber</td>\n",
       "      <td>1e9c5562-0cfc-11ea-abe1-c412f533dba1</td>\n",
       "      <td>7264cf21-a31d-11e9-abb0-c412f533dba1</td>\n",
       "      <td>2020-10-22 16:42:29</td>\n",
       "      <td>2020-10-16 18:08:09</td>\n",
       "      <td>1</td>\n",
       "      <td>0</td>\n",
       "    </tr>\n",
       "    <tr>\n",
       "      <th>1</th>\n",
       "      <td>0078b05d-0f1f-11eb-ac1a-c412f533dba1</td>\n",
       "      <td>2020-10-15 23:45:40</td>\n",
       "      <td>cpc</td>\n",
       "      <td>instagram</td>\n",
       "      <td>d12fe765-b444-11e9-abb3-c412f533dba1</td>\n",
       "      <td>606c5b29-0f88-11eb-ac1a-c412f533dba1</td>\n",
       "      <td>NaT</td>\n",
       "      <td>2020-10-15 23:45:40</td>\n",
       "      <td>1</td>\n",
       "      <td>0</td>\n",
       "    </tr>\n",
       "    <tr>\n",
       "      <th>2</th>\n",
       "      <td>009b1616-145d-11eb-ac1d-c412f533dba1</td>\n",
       "      <td>2020-10-22 15:52:04</td>\n",
       "      <td>cpc</td>\n",
       "      <td>vkontakte</td>\n",
       "      <td>5dd88f32-6501-11ea-abf3-c412f533dba1</td>\n",
       "      <td>ac2c0012-6fd5-11e7-80fc-c412f533dba1</td>\n",
       "      <td>2020-04-17 14:48:51</td>\n",
       "      <td>2020-10-22 15:52:04</td>\n",
       "      <td>1</td>\n",
       "      <td>0</td>\n",
       "    </tr>\n",
       "    <tr>\n",
       "      <th>3</th>\n",
       "      <td>00aea163-13a5-11eb-ac1d-c412f533dba1</td>\n",
       "      <td>2020-10-21 17:54:59</td>\n",
       "      <td></td>\n",
       "      <td>unknown</td>\n",
       "      <td>db06b8bc-bfb2-11e7-8116-c412f533dba1</td>\n",
       "      <td>00aea164-13a5-11eb-ac1d-c412f533dba1</td>\n",
       "      <td>NaT</td>\n",
       "      <td>2020-10-21 17:54:59</td>\n",
       "      <td>1</td>\n",
       "      <td>0</td>\n",
       "    </tr>\n",
       "    <tr>\n",
       "      <th>4</th>\n",
       "      <td>00b288c8-1f2a-11eb-ac1d-c412f533dba1</td>\n",
       "      <td>2020-11-05 09:44:43</td>\n",
       "      <td>cpc</td>\n",
       "      <td>instagram</td>\n",
       "      <td>43756fa4-57a0-11e9-ab9a-c412f533dba1</td>\n",
       "      <td>9c1b0cfa-fd6b-11ea-ac18-c412f533dba1</td>\n",
       "      <td>NaT</td>\n",
       "      <td>2020-11-05 09:44:43</td>\n",
       "      <td>1</td>\n",
       "      <td>0</td>\n",
       "    </tr>\n",
       "    <tr>\n",
       "      <th>...</th>\n",
       "      <td>...</td>\n",
       "      <td>...</td>\n",
       "      <td>...</td>\n",
       "      <td>...</td>\n",
       "      <td>...</td>\n",
       "      <td>...</td>\n",
       "      <td>...</td>\n",
       "      <td>...</td>\n",
       "      <td>...</td>\n",
       "      <td>...</td>\n",
       "    </tr>\n",
       "    <tr>\n",
       "      <th>1896</th>\n",
       "      <td>ff7d0045-12c7-11eb-ac1c-c412f533dba1</td>\n",
       "      <td>2020-10-20 15:32:56</td>\n",
       "      <td>sms</td>\n",
       "      <td>viber</td>\n",
       "      <td>9a87c608-52dc-11ea-abeb-c412f533dba1</td>\n",
       "      <td>2e4fbe67-12cb-11eb-ac1c-c412f533dba1</td>\n",
       "      <td>NaT</td>\n",
       "      <td>2020-10-20 15:32:56</td>\n",
       "      <td>1</td>\n",
       "      <td>0</td>\n",
       "    </tr>\n",
       "    <tr>\n",
       "      <th>1897</th>\n",
       "      <td>ffa2180e-1f72-11eb-ac1d-c412f533dba1</td>\n",
       "      <td>2020-11-05 18:27:15</td>\n",
       "      <td></td>\n",
       "      <td>unknown</td>\n",
       "      <td>b832aac3-fcda-11ea-ac18-c412f533dba1</td>\n",
       "      <td>ffa2180f-1f72-11eb-ac1d-c412f533dba1</td>\n",
       "      <td>2020-11-05 15:29:21</td>\n",
       "      <td>2020-11-05 18:27:15</td>\n",
       "      <td>1</td>\n",
       "      <td>0</td>\n",
       "    </tr>\n",
       "    <tr>\n",
       "      <th>1898</th>\n",
       "      <td>ffaa0815-16c4-11eb-ac1d-c412f533dba1</td>\n",
       "      <td>2020-10-25 17:21:33</td>\n",
       "      <td></td>\n",
       "      <td>unknown</td>\n",
       "      <td>5dd88f32-6501-11ea-abf3-c412f533dba1</td>\n",
       "      <td>ffaa0816-16c4-11eb-ac1d-c412f533dba1</td>\n",
       "      <td>NaT</td>\n",
       "      <td>2020-10-25 17:21:33</td>\n",
       "      <td>1</td>\n",
       "      <td>0</td>\n",
       "    </tr>\n",
       "    <tr>\n",
       "      <th>1899</th>\n",
       "      <td>ffacb5af-194f-11eb-ac1d-c412f533dba1</td>\n",
       "      <td>2020-10-28 23:01:35</td>\n",
       "      <td>cpc</td>\n",
       "      <td>vkontakte</td>\n",
       "      <td>ad52c7a8-a752-11e7-8115-c412f533dba1</td>\n",
       "      <td>377ea5e0-d089-11e9-abbd-c412f533dba1</td>\n",
       "      <td>NaT</td>\n",
       "      <td>2020-10-28 23:01:35</td>\n",
       "      <td>1</td>\n",
       "      <td>0</td>\n",
       "    </tr>\n",
       "    <tr>\n",
       "      <th>1900</th>\n",
       "      <td>ffcdebc8-15c2-11eb-ac1d-c412f533dba1</td>\n",
       "      <td>2020-10-24 10:34:43</td>\n",
       "      <td>utm_medium</td>\n",
       "      <td>utm_source</td>\n",
       "      <td>ad52c7a8-a752-11e7-8115-c412f533dba1</td>\n",
       "      <td>f3357d13-15c7-11eb-ac1d-c412f533dba1</td>\n",
       "      <td>NaT</td>\n",
       "      <td>2020-10-24 10:34:43</td>\n",
       "      <td>1</td>\n",
       "      <td>0</td>\n",
       "    </tr>\n",
       "  </tbody>\n",
       "</table>\n",
       "<p>1901 rows × 10 columns</p>\n",
       "</div>"
      ],
      "text/plain": [
       "                                   lead_id          created_at d_utm_medium  \\\n",
       "0     00678e71-0fb9-11eb-ac1a-c412f533dba1 2020-10-16 18:08:09          sms   \n",
       "1     0078b05d-0f1f-11eb-ac1a-c412f533dba1 2020-10-15 23:45:40          cpc   \n",
       "2     009b1616-145d-11eb-ac1d-c412f533dba1 2020-10-22 15:52:04          cpc   \n",
       "3     00aea163-13a5-11eb-ac1d-c412f533dba1 2020-10-21 17:54:59                \n",
       "4     00b288c8-1f2a-11eb-ac1d-c412f533dba1 2020-11-05 09:44:43          cpc   \n",
       "...                                    ...                 ...          ...   \n",
       "1896  ff7d0045-12c7-11eb-ac1c-c412f533dba1 2020-10-20 15:32:56          sms   \n",
       "1897  ffa2180e-1f72-11eb-ac1d-c412f533dba1 2020-11-05 18:27:15                \n",
       "1898  ffaa0815-16c4-11eb-ac1d-c412f533dba1 2020-10-25 17:21:33                \n",
       "1899  ffacb5af-194f-11eb-ac1d-c412f533dba1 2020-10-28 23:01:35          cpc   \n",
       "1900  ffcdebc8-15c2-11eb-ac1d-c412f533dba1 2020-10-24 10:34:43   utm_medium   \n",
       "\n",
       "     d_utm_source                          l_manager_id  \\\n",
       "0           viber  1e9c5562-0cfc-11ea-abe1-c412f533dba1   \n",
       "1       instagram  d12fe765-b444-11e9-abb3-c412f533dba1   \n",
       "2       vkontakte  5dd88f32-6501-11ea-abf3-c412f533dba1   \n",
       "3         unknown  db06b8bc-bfb2-11e7-8116-c412f533dba1   \n",
       "4       instagram  43756fa4-57a0-11e9-ab9a-c412f533dba1   \n",
       "...           ...                                   ...   \n",
       "1896        viber  9a87c608-52dc-11ea-abeb-c412f533dba1   \n",
       "1897      unknown  b832aac3-fcda-11ea-ac18-c412f533dba1   \n",
       "1898      unknown  5dd88f32-6501-11ea-abf3-c412f533dba1   \n",
       "1899    vkontakte  ad52c7a8-a752-11e7-8115-c412f533dba1   \n",
       "1900   utm_source  ad52c7a8-a752-11e7-8115-c412f533dba1   \n",
       "\n",
       "                               l_client_id        min_trans_dt  \\\n",
       "0     7264cf21-a31d-11e9-abb0-c412f533dba1 2020-10-22 16:42:29   \n",
       "1     606c5b29-0f88-11eb-ac1a-c412f533dba1                 NaT   \n",
       "2     ac2c0012-6fd5-11e7-80fc-c412f533dba1 2020-04-17 14:48:51   \n",
       "3     00aea164-13a5-11eb-ac1d-c412f533dba1                 NaT   \n",
       "4     9c1b0cfa-fd6b-11ea-ac18-c412f533dba1                 NaT   \n",
       "...                                    ...                 ...   \n",
       "1896  2e4fbe67-12cb-11eb-ac1c-c412f533dba1                 NaT   \n",
       "1897  ffa2180f-1f72-11eb-ac1d-c412f533dba1 2020-11-05 15:29:21   \n",
       "1898  ffaa0816-16c4-11eb-ac1d-c412f533dba1                 NaT   \n",
       "1899  377ea5e0-d089-11e9-abbd-c412f533dba1                 NaT   \n",
       "1900  f3357d13-15c7-11eb-ac1d-c412f533dba1                 NaT   \n",
       "\n",
       "             min_lead_dt  new_lead_num  bed_lead_num  \n",
       "0    2020-10-16 18:08:09             1             0  \n",
       "1    2020-10-15 23:45:40             1             0  \n",
       "2    2020-10-22 15:52:04             1             0  \n",
       "3    2020-10-21 17:54:59             1             0  \n",
       "4    2020-11-05 09:44:43             1             0  \n",
       "...                  ...           ...           ...  \n",
       "1896 2020-10-20 15:32:56             1             0  \n",
       "1897 2020-11-05 18:27:15             1             0  \n",
       "1898 2020-10-25 17:21:33             1             0  \n",
       "1899 2020-10-28 23:01:35             1             0  \n",
       "1900 2020-10-24 10:34:43             1             0  \n",
       "\n",
       "[1901 rows x 10 columns]"
      ]
     },
     "execution_count": 35,
     "metadata": {},
     "output_type": "execute_result"
    }
   ],
   "source": [
    "df"
   ]
  },
  {
   "cell_type": "markdown",
   "id": "46988b07",
   "metadata": {},
   "source": [
    "добавим инфу по клубам и менеджерам:"
   ]
  },
  {
   "cell_type": "code",
   "execution_count": 36,
   "id": "bf6a5918",
   "metadata": {},
   "outputs": [],
   "source": [
    "df = df.merge(man, how='left', left_on = 'l_manager_id', right_on = 'manager_id')"
   ]
  },
  {
   "cell_type": "markdown",
   "id": "8381c24e",
   "metadata": {},
   "source": [
    "Итоговый датафрейм должен позволять создать пивотник в гугл-шитс, сделаем предварительный вариант по первым трем метрикам церез групп бай\n"
   ]
  },
  {
   "cell_type": "code",
   "execution_count": 37,
   "id": "3a38915b",
   "metadata": {},
   "outputs": [
    {
     "data": {
      "text/html": [
       "<div>\n",
       "<style scoped>\n",
       "    .dataframe tbody tr th:only-of-type {\n",
       "        vertical-align: middle;\n",
       "    }\n",
       "\n",
       "    .dataframe tbody tr th {\n",
       "        vertical-align: top;\n",
       "    }\n",
       "\n",
       "    .dataframe thead th {\n",
       "        text-align: right;\n",
       "    }\n",
       "</style>\n",
       "<table border=\"1\" class=\"dataframe\">\n",
       "  <thead>\n",
       "    <tr style=\"text-align: right;\">\n",
       "      <th></th>\n",
       "      <th>lead_id</th>\n",
       "      <th>bed_lead_num</th>\n",
       "      <th>new_lead_num</th>\n",
       "    </tr>\n",
       "    <tr>\n",
       "      <th>d_utm_source</th>\n",
       "      <th></th>\n",
       "      <th></th>\n",
       "      <th></th>\n",
       "    </tr>\n",
       "  </thead>\n",
       "  <tbody>\n",
       "    <tr>\n",
       "      <th>unknown</th>\n",
       "      <td>785</td>\n",
       "      <td>338</td>\n",
       "      <td>446</td>\n",
       "    </tr>\n",
       "    <tr>\n",
       "      <th>instagram</th>\n",
       "      <td>590</td>\n",
       "      <td>62</td>\n",
       "      <td>506</td>\n",
       "    </tr>\n",
       "    <tr>\n",
       "      <th>utm_source</th>\n",
       "      <td>153</td>\n",
       "      <td>12</td>\n",
       "      <td>141</td>\n",
       "    </tr>\n",
       "    <tr>\n",
       "      <th>viber</th>\n",
       "      <td>144</td>\n",
       "      <td>16</td>\n",
       "      <td>120</td>\n",
       "    </tr>\n",
       "    <tr>\n",
       "      <th>vkontakte</th>\n",
       "      <td>80</td>\n",
       "      <td>8</td>\n",
       "      <td>70</td>\n",
       "    </tr>\n",
       "    <tr>\n",
       "      <th>yandex</th>\n",
       "      <td>71</td>\n",
       "      <td>5</td>\n",
       "      <td>63</td>\n",
       "    </tr>\n",
       "    <tr>\n",
       "      <th>google</th>\n",
       "      <td>67</td>\n",
       "      <td>12</td>\n",
       "      <td>51</td>\n",
       "    </tr>\n",
       "    <tr>\n",
       "      <th>ycard</th>\n",
       "      <td>6</td>\n",
       "      <td>0</td>\n",
       "      <td>6</td>\n",
       "    </tr>\n",
       "    <tr>\n",
       "      <th>sms</th>\n",
       "      <td>5</td>\n",
       "      <td>0</td>\n",
       "      <td>5</td>\n",
       "    </tr>\n",
       "  </tbody>\n",
       "</table>\n",
       "</div>"
      ],
      "text/plain": [
       "              lead_id  bed_lead_num  new_lead_num\n",
       "d_utm_source                                     \n",
       "unknown           785           338           446\n",
       "instagram         590            62           506\n",
       "utm_source        153            12           141\n",
       "viber             144            16           120\n",
       "vkontakte          80             8            70\n",
       "yandex             71             5            63\n",
       "google             67            12            51\n",
       "ycard               6             0             6\n",
       "sms                 5             0             5"
      ]
     },
     "execution_count": 37,
     "metadata": {},
     "output_type": "execute_result"
    }
   ],
   "source": [
    "df.groupby('d_utm_source').agg({'lead_id':'count', 'bed_lead_num':'sum', 'new_lead_num':'sum'})\\\n",
    "                            .sort_values(by='lead_id', ascending=False)"
   ]
  },
  {
   "cell_type": "code",
   "execution_count": 38,
   "id": "70b98fd9",
   "metadata": {},
   "outputs": [
    {
     "data": {
      "text/html": [
       "<div>\n",
       "<style scoped>\n",
       "    .dataframe tbody tr th:only-of-type {\n",
       "        vertical-align: middle;\n",
       "    }\n",
       "\n",
       "    .dataframe tbody tr th {\n",
       "        vertical-align: top;\n",
       "    }\n",
       "\n",
       "    .dataframe thead th {\n",
       "        text-align: right;\n",
       "    }\n",
       "</style>\n",
       "<table border=\"1\" class=\"dataframe\">\n",
       "  <thead>\n",
       "    <tr style=\"text-align: right;\">\n",
       "      <th></th>\n",
       "      <th></th>\n",
       "      <th>lead_id</th>\n",
       "      <th>bed_lead_num</th>\n",
       "      <th>new_lead_num</th>\n",
       "    </tr>\n",
       "    <tr>\n",
       "      <th>d_club</th>\n",
       "      <th>d_manager</th>\n",
       "      <th></th>\n",
       "      <th></th>\n",
       "      <th></th>\n",
       "    </tr>\n",
       "  </thead>\n",
       "  <tbody>\n",
       "    <tr>\n",
       "      <th rowspan=\"2\" valign=\"top\">club #1</th>\n",
       "      <th>manager #1</th>\n",
       "      <td>168</td>\n",
       "      <td>34</td>\n",
       "      <td>131</td>\n",
       "    </tr>\n",
       "    <tr>\n",
       "      <th>manager #7</th>\n",
       "      <td>142</td>\n",
       "      <td>21</td>\n",
       "      <td>121</td>\n",
       "    </tr>\n",
       "    <tr>\n",
       "      <th rowspan=\"3\" valign=\"top\">club #2</th>\n",
       "      <th>manager #10</th>\n",
       "      <td>105</td>\n",
       "      <td>1</td>\n",
       "      <td>104</td>\n",
       "    </tr>\n",
       "    <tr>\n",
       "      <th>manager #4</th>\n",
       "      <td>166</td>\n",
       "      <td>1</td>\n",
       "      <td>163</td>\n",
       "    </tr>\n",
       "    <tr>\n",
       "      <th>manager #8</th>\n",
       "      <td>135</td>\n",
       "      <td>6</td>\n",
       "      <td>124</td>\n",
       "    </tr>\n",
       "    <tr>\n",
       "      <th rowspan=\"3\" valign=\"top\">club #3</th>\n",
       "      <th>manager #12</th>\n",
       "      <td>13</td>\n",
       "      <td>1</td>\n",
       "      <td>12</td>\n",
       "    </tr>\n",
       "    <tr>\n",
       "      <th>manager #13</th>\n",
       "      <td>185</td>\n",
       "      <td>1</td>\n",
       "      <td>182</td>\n",
       "    </tr>\n",
       "    <tr>\n",
       "      <th>manager #9</th>\n",
       "      <td>198</td>\n",
       "      <td>5</td>\n",
       "      <td>185</td>\n",
       "    </tr>\n",
       "    <tr>\n",
       "      <th rowspan=\"3\" valign=\"top\">club #4</th>\n",
       "      <th>manager #11</th>\n",
       "      <td>179</td>\n",
       "      <td>64</td>\n",
       "      <td>103</td>\n",
       "    </tr>\n",
       "    <tr>\n",
       "      <th>manager #2</th>\n",
       "      <td>122</td>\n",
       "      <td>13</td>\n",
       "      <td>105</td>\n",
       "    </tr>\n",
       "    <tr>\n",
       "      <th>manager #5</th>\n",
       "      <td>162</td>\n",
       "      <td>25</td>\n",
       "      <td>133</td>\n",
       "    </tr>\n",
       "  </tbody>\n",
       "</table>\n",
       "</div>"
      ],
      "text/plain": [
       "                     lead_id  bed_lead_num  new_lead_num\n",
       "d_club  d_manager                                       \n",
       "club #1 manager #1       168            34           131\n",
       "        manager #7       142            21           121\n",
       "club #2 manager #10      105             1           104\n",
       "        manager #4       166             1           163\n",
       "        manager #8       135             6           124\n",
       "club #3 manager #12       13             1            12\n",
       "        manager #13      185             1           182\n",
       "        manager #9       198             5           185\n",
       "club #4 manager #11      179            64           103\n",
       "        manager #2       122            13           105\n",
       "        manager #5       162            25           133"
      ]
     },
     "execution_count": 38,
     "metadata": {},
     "output_type": "execute_result"
    }
   ],
   "source": [
    "df.groupby(['d_club', 'd_manager']).agg({'lead_id':'count', 'bed_lead_num':'sum', 'new_lead_num':'sum'})"
   ]
  },
  {
   "cell_type": "markdown",
   "id": "5b54cb69",
   "metadata": {},
   "source": [
    "Данных для пивота будет достаточно... бежим дальше...  \n",
    "**кто купил в течение недели после заявки?**"
   ]
  },
  {
   "cell_type": "markdown",
   "id": "7ffd5813",
   "metadata": {},
   "source": [
    "Нам необходимо сопаставить транзакции и заявки...   \n",
    "Прямой связи нет, поэтому будем считать, что транзакции произошедшие после создания текущей заявки и до момента следующей заявки будут относиться к этой текущей заявке (их может быть и несколько)"
   ]
  },
  {
   "cell_type": "markdown",
   "id": "436993a5",
   "metadata": {},
   "source": [
    "Определим есть ли у заявки последующая заявка, если \"да\" зафиксируем её номер, если нет поставим дату из \"будущего\""
   ]
  },
  {
   "cell_type": "code",
   "execution_count": 39,
   "id": "186b306c",
   "metadata": {},
   "outputs": [],
   "source": [
    "df = df.sort_values(by = ['l_client_id','created_at'])"
   ]
  },
  {
   "cell_type": "code",
   "execution_count": 40,
   "id": "86f8577a",
   "metadata": {},
   "outputs": [],
   "source": [
    "df['fwd_lead_dt'] = df.groupby('l_client_id')['created_at'].\\\n",
    "                                apply(lambda x: x.shift(-1)).\\\n",
    "                                fillna('2099-01-01 00:00:00')\n"
   ]
  },
  {
   "cell_type": "code",
   "execution_count": 41,
   "id": "5dfd9631",
   "metadata": {},
   "outputs": [],
   "source": [
    "df['fwd_lead_dt'] = pd.to_datetime(df['fwd_lead_dt'])"
   ]
  },
  {
   "cell_type": "markdown",
   "id": "4fb84e70",
   "metadata": {},
   "source": [
    "Вспомнив добрым словом SQL, возьмемся за pandas...\n",
    "План: приджойнить к каждой заявке все транзакции по l_client_id, потом секвистировать все под наши условия, рассчитаем разницу между датой заявки и транзакции далее для каждой lead_id оставим l_client_id, сумму транзакций. В tmp1 - реализуем условие заявка - транзакция менее равно 7 дней, в tmp2 добавим условие \"новый клиент\""
   ]
  },
  {
   "cell_type": "code",
   "execution_count": 42,
   "id": "de2b730a",
   "metadata": {},
   "outputs": [],
   "source": [
    "tmp = df.merge(trans, how='left', on = 'l_client_id')"
   ]
  },
  {
   "cell_type": "code",
   "execution_count": 43,
   "id": "5d987aab",
   "metadata": {},
   "outputs": [],
   "source": [
    "tmp = tmp[(tmp['created_at_y']>=tmp['created_at_x']) & (tmp['created_at_y']<=tmp['fwd_lead_dt'])]"
   ]
  },
  {
   "cell_type": "code",
   "execution_count": 44,
   "id": "5a316306",
   "metadata": {},
   "outputs": [],
   "source": [
    "tmp['days_lead_trans'] = tmp['created_at_y'] - tmp['created_at_x']"
   ]
  },
  {
   "cell_type": "code",
   "execution_count": 45,
   "id": "ef9d665f",
   "metadata": {},
   "outputs": [],
   "source": [
    "tmp1 = tmp[tmp['days_lead_trans'] <= '7days']"
   ]
  },
  {
   "cell_type": "code",
   "execution_count": 46,
   "id": "cf66aa43",
   "metadata": {},
   "outputs": [],
   "source": [
    "tmp1 = tmp1.groupby(['lead_id', 'l_client_id']).agg({'transaction_id':'nunique'}).reset_index()"
   ]
  },
  {
   "cell_type": "code",
   "execution_count": 47,
   "id": "f6f301ec",
   "metadata": {},
   "outputs": [],
   "source": [
    "tmp2 = tmp[(tmp['days_lead_trans'] <= '7days')&(tmp['new_lead_num'] > 0)]"
   ]
  },
  {
   "cell_type": "code",
   "execution_count": 48,
   "id": "4979396d",
   "metadata": {},
   "outputs": [],
   "source": [
    "\n",
    "tmp2 = tmp2.groupby(['lead_id', 'l_client_id']).agg({'m_real_amount':'sum'}).reset_index()"
   ]
  },
  {
   "cell_type": "markdown",
   "id": "eb3701f4",
   "metadata": {},
   "source": [
    "Теперь вернем это в основной датафрейм:"
   ]
  },
  {
   "cell_type": "code",
   "execution_count": 49,
   "id": "093302ad",
   "metadata": {},
   "outputs": [],
   "source": [
    "df = df.merge(tmp1, how='left', on = 'lead_id')"
   ]
  },
  {
   "cell_type": "code",
   "execution_count": 50,
   "id": "de988424",
   "metadata": {},
   "outputs": [],
   "source": [
    "df = df.merge(tmp2, how='left', on = 'lead_id')"
   ]
  },
  {
   "cell_type": "markdown",
   "id": "4076bcc4",
   "metadata": {},
   "source": [
    "Для удобства удалим и переименуем столбцы нашего датафрейма:"
   ]
  },
  {
   "cell_type": "code",
   "execution_count": 51,
   "id": "76768c8a",
   "metadata": {},
   "outputs": [],
   "source": [
    "df = df[['lead_id', 'created_at', 'd_utm_source', 'l_client_id_x', 'new_lead_num', 'bed_lead_num', 'd_manager', 'd_club', 'l_client_id_y', 'l_client_id', 'm_real_amount']]"
   ]
  },
  {
   "cell_type": "code",
   "execution_count": 52,
   "id": "1576901e",
   "metadata": {},
   "outputs": [],
   "source": [
    "df.columns = ['lead_id', 'dt', 'source', 'client_id', 'new_lead_num', 'bed_lead_num', 'manager', 'club', '7days_client_id', 'new_7days_client_id', 'new_7days_real_amount']"
   ]
  },
  {
   "cell_type": "markdown",
   "id": "45954d2c",
   "metadata": {},
   "source": [
    "Проверим отсутствие NAN в категориях:"
   ]
  },
  {
   "cell_type": "code",
   "execution_count": 53,
   "id": "f49389c3",
   "metadata": {},
   "outputs": [
    {
     "data": {
      "text/plain": [
       "array(['manager #13', nan, 'manager #1', 'manager #5', 'manager #7',\n",
       "       'manager #9', 'manager #11', 'manager #2', 'manager #10',\n",
       "       'manager #8', 'manager #4', 'manager #12'], dtype=object)"
      ]
     },
     "execution_count": 53,
     "metadata": {},
     "output_type": "execute_result"
    }
   ],
   "source": [
    "df['manager'].unique()"
   ]
  },
  {
   "cell_type": "code",
   "execution_count": 54,
   "id": "bf30c056",
   "metadata": {},
   "outputs": [],
   "source": [
    "df['manager'] = df['manager'].fillna('unknown')"
   ]
  },
  {
   "cell_type": "code",
   "execution_count": 55,
   "id": "e455c2d1",
   "metadata": {},
   "outputs": [
    {
     "data": {
      "text/plain": [
       "array(['club #3', nan, 'club #1', 'club #4', 'club #2'], dtype=object)"
      ]
     },
     "execution_count": 55,
     "metadata": {},
     "output_type": "execute_result"
    }
   ],
   "source": [
    "df['club'].unique()"
   ]
  },
  {
   "cell_type": "code",
   "execution_count": 56,
   "id": "66f99c7e",
   "metadata": {},
   "outputs": [],
   "source": [
    "df['club'] = df['club'].fillna('unknown')"
   ]
  },
  {
   "cell_type": "code",
   "execution_count": 57,
   "id": "6de26c5c",
   "metadata": {},
   "outputs": [
    {
     "data": {
      "text/plain": [
       "array(['google', 'utm_source', 'viber', 'instagram', 'unknown', 'yandex',\n",
       "       'vkontakte', 'sms', 'ycard'], dtype=object)"
      ]
     },
     "execution_count": 57,
     "metadata": {},
     "output_type": "execute_result"
    }
   ],
   "source": [
    "df['source'].unique()"
   ]
  },
  {
   "cell_type": "code",
   "execution_count": 58,
   "id": "f5c6f3a3",
   "metadata": {},
   "outputs": [],
   "source": [
    "df['source'] = df['source'].fillna('unknown')"
   ]
  },
  {
   "cell_type": "markdown",
   "id": "4f6392d8",
   "metadata": {},
   "source": [
    "Посмотрим на результат"
   ]
  },
  {
   "cell_type": "code",
   "execution_count": 59,
   "id": "e391d2f0",
   "metadata": {},
   "outputs": [
    {
     "data": {
      "text/html": [
       "<div>\n",
       "<style scoped>\n",
       "    .dataframe tbody tr th:only-of-type {\n",
       "        vertical-align: middle;\n",
       "    }\n",
       "\n",
       "    .dataframe tbody tr th {\n",
       "        vertical-align: top;\n",
       "    }\n",
       "\n",
       "    .dataframe thead th {\n",
       "        text-align: right;\n",
       "    }\n",
       "</style>\n",
       "<table border=\"1\" class=\"dataframe\">\n",
       "  <thead>\n",
       "    <tr style=\"text-align: right;\">\n",
       "      <th></th>\n",
       "      <th>lead_id</th>\n",
       "      <th>dt</th>\n",
       "      <th>source</th>\n",
       "      <th>client_id</th>\n",
       "      <th>new_lead_num</th>\n",
       "      <th>bed_lead_num</th>\n",
       "      <th>manager</th>\n",
       "      <th>club</th>\n",
       "      <th>7days_client_id</th>\n",
       "      <th>new_7days_client_id</th>\n",
       "      <th>new_7days_real_amount</th>\n",
       "    </tr>\n",
       "  </thead>\n",
       "  <tbody>\n",
       "    <tr>\n",
       "      <th>0</th>\n",
       "      <td>69818bba-0ead-11eb-ac1a-c412f533dba1</td>\n",
       "      <td>2020-10-15 10:12:34</td>\n",
       "      <td>google</td>\n",
       "      <td>00000000-0000-0000-0000-000000000000</td>\n",
       "      <td>0</td>\n",
       "      <td>1</td>\n",
       "      <td>manager #13</td>\n",
       "      <td>club #3</td>\n",
       "      <td>NaN</td>\n",
       "      <td>NaN</td>\n",
       "      <td>NaN</td>\n",
       "    </tr>\n",
       "    <tr>\n",
       "      <th>1</th>\n",
       "      <td>a6f57c47-0eb5-11eb-ac1a-c412f533dba1</td>\n",
       "      <td>2020-10-15 11:11:32</td>\n",
       "      <td>utm_source</td>\n",
       "      <td>00000000-0000-0000-0000-000000000000</td>\n",
       "      <td>0</td>\n",
       "      <td>1</td>\n",
       "      <td>unknown</td>\n",
       "      <td>unknown</td>\n",
       "      <td>NaN</td>\n",
       "      <td>NaN</td>\n",
       "      <td>NaN</td>\n",
       "    </tr>\n",
       "    <tr>\n",
       "      <th>2</th>\n",
       "      <td>05a6b11b-0eb7-11eb-ac1a-c412f533dba1</td>\n",
       "      <td>2020-10-15 11:21:21</td>\n",
       "      <td>viber</td>\n",
       "      <td>00000000-0000-0000-0000-000000000000</td>\n",
       "      <td>0</td>\n",
       "      <td>1</td>\n",
       "      <td>unknown</td>\n",
       "      <td>unknown</td>\n",
       "      <td>NaN</td>\n",
       "      <td>NaN</td>\n",
       "      <td>NaN</td>\n",
       "    </tr>\n",
       "    <tr>\n",
       "      <th>3</th>\n",
       "      <td>47a73a00-0f05-11eb-ac1a-c412f533dba1</td>\n",
       "      <td>2020-10-15 20:41:32</td>\n",
       "      <td>instagram</td>\n",
       "      <td>00000000-0000-0000-0000-000000000000</td>\n",
       "      <td>0</td>\n",
       "      <td>1</td>\n",
       "      <td>manager #1</td>\n",
       "      <td>club #1</td>\n",
       "      <td>NaN</td>\n",
       "      <td>NaN</td>\n",
       "      <td>NaN</td>\n",
       "    </tr>\n",
       "    <tr>\n",
       "      <th>4</th>\n",
       "      <td>e0dcdb43-0f08-11eb-ac1a-c412f533dba1</td>\n",
       "      <td>2020-10-15 21:07:18</td>\n",
       "      <td>google</td>\n",
       "      <td>00000000-0000-0000-0000-000000000000</td>\n",
       "      <td>0</td>\n",
       "      <td>1</td>\n",
       "      <td>manager #1</td>\n",
       "      <td>club #1</td>\n",
       "      <td>NaN</td>\n",
       "      <td>NaN</td>\n",
       "      <td>NaN</td>\n",
       "    </tr>\n",
       "    <tr>\n",
       "      <th>...</th>\n",
       "      <td>...</td>\n",
       "      <td>...</td>\n",
       "      <td>...</td>\n",
       "      <td>...</td>\n",
       "      <td>...</td>\n",
       "      <td>...</td>\n",
       "      <td>...</td>\n",
       "      <td>...</td>\n",
       "      <td>...</td>\n",
       "      <td>...</td>\n",
       "      <td>...</td>\n",
       "    </tr>\n",
       "    <tr>\n",
       "      <th>1896</th>\n",
       "      <td>a904f67d-181c-11eb-ac1d-c412f533dba1</td>\n",
       "      <td>2020-10-27 10:21:35</td>\n",
       "      <td>unknown</td>\n",
       "      <td>feb21568-d5a8-11e9-abbe-c412f533dba1</td>\n",
       "      <td>1</td>\n",
       "      <td>0</td>\n",
       "      <td>manager #9</td>\n",
       "      <td>club #3</td>\n",
       "      <td>NaN</td>\n",
       "      <td>NaN</td>\n",
       "      <td>NaN</td>\n",
       "    </tr>\n",
       "    <tr>\n",
       "      <th>1897</th>\n",
       "      <td>ffa2180e-1f72-11eb-ac1d-c412f533dba1</td>\n",
       "      <td>2020-11-05 18:27:15</td>\n",
       "      <td>unknown</td>\n",
       "      <td>ffa2180f-1f72-11eb-ac1d-c412f533dba1</td>\n",
       "      <td>1</td>\n",
       "      <td>0</td>\n",
       "      <td>manager #13</td>\n",
       "      <td>club #3</td>\n",
       "      <td>NaN</td>\n",
       "      <td>NaN</td>\n",
       "      <td>NaN</td>\n",
       "    </tr>\n",
       "    <tr>\n",
       "      <th>1898</th>\n",
       "      <td>ffaa0815-16c4-11eb-ac1d-c412f533dba1</td>\n",
       "      <td>2020-10-25 17:21:33</td>\n",
       "      <td>unknown</td>\n",
       "      <td>ffaa0816-16c4-11eb-ac1d-c412f533dba1</td>\n",
       "      <td>1</td>\n",
       "      <td>0</td>\n",
       "      <td>manager #10</td>\n",
       "      <td>club #2</td>\n",
       "      <td>NaN</td>\n",
       "      <td>NaN</td>\n",
       "      <td>NaN</td>\n",
       "    </tr>\n",
       "    <tr>\n",
       "      <th>1899</th>\n",
       "      <td>0daaf21a-1514-11eb-ac1d-c412f533dba1</td>\n",
       "      <td>2020-10-23 13:42:24</td>\n",
       "      <td>yandex</td>\n",
       "      <td>ffaccc44-6d9e-11ea-abf3-c412f533dba1</td>\n",
       "      <td>1</td>\n",
       "      <td>0</td>\n",
       "      <td>manager #11</td>\n",
       "      <td>club #4</td>\n",
       "      <td>NaN</td>\n",
       "      <td>NaN</td>\n",
       "      <td>NaN</td>\n",
       "    </tr>\n",
       "    <tr>\n",
       "      <th>1900</th>\n",
       "      <td>8442d363-20bc-11eb-ac1d-c412f533dba1</td>\n",
       "      <td>2020-11-07 09:46:01</td>\n",
       "      <td>instagram</td>\n",
       "      <td>ffc63684-20de-11eb-ac1d-c412f533dba1</td>\n",
       "      <td>1</td>\n",
       "      <td>0</td>\n",
       "      <td>manager #5</td>\n",
       "      <td>club #4</td>\n",
       "      <td>NaN</td>\n",
       "      <td>NaN</td>\n",
       "      <td>NaN</td>\n",
       "    </tr>\n",
       "  </tbody>\n",
       "</table>\n",
       "<p>1901 rows × 11 columns</p>\n",
       "</div>"
      ],
      "text/plain": [
       "                                   lead_id                  dt      source  \\\n",
       "0     69818bba-0ead-11eb-ac1a-c412f533dba1 2020-10-15 10:12:34      google   \n",
       "1     a6f57c47-0eb5-11eb-ac1a-c412f533dba1 2020-10-15 11:11:32  utm_source   \n",
       "2     05a6b11b-0eb7-11eb-ac1a-c412f533dba1 2020-10-15 11:21:21       viber   \n",
       "3     47a73a00-0f05-11eb-ac1a-c412f533dba1 2020-10-15 20:41:32   instagram   \n",
       "4     e0dcdb43-0f08-11eb-ac1a-c412f533dba1 2020-10-15 21:07:18      google   \n",
       "...                                    ...                 ...         ...   \n",
       "1896  a904f67d-181c-11eb-ac1d-c412f533dba1 2020-10-27 10:21:35     unknown   \n",
       "1897  ffa2180e-1f72-11eb-ac1d-c412f533dba1 2020-11-05 18:27:15     unknown   \n",
       "1898  ffaa0815-16c4-11eb-ac1d-c412f533dba1 2020-10-25 17:21:33     unknown   \n",
       "1899  0daaf21a-1514-11eb-ac1d-c412f533dba1 2020-10-23 13:42:24      yandex   \n",
       "1900  8442d363-20bc-11eb-ac1d-c412f533dba1 2020-11-07 09:46:01   instagram   \n",
       "\n",
       "                                 client_id  new_lead_num  bed_lead_num  \\\n",
       "0     00000000-0000-0000-0000-000000000000             0             1   \n",
       "1     00000000-0000-0000-0000-000000000000             0             1   \n",
       "2     00000000-0000-0000-0000-000000000000             0             1   \n",
       "3     00000000-0000-0000-0000-000000000000             0             1   \n",
       "4     00000000-0000-0000-0000-000000000000             0             1   \n",
       "...                                    ...           ...           ...   \n",
       "1896  feb21568-d5a8-11e9-abbe-c412f533dba1             1             0   \n",
       "1897  ffa2180f-1f72-11eb-ac1d-c412f533dba1             1             0   \n",
       "1898  ffaa0816-16c4-11eb-ac1d-c412f533dba1             1             0   \n",
       "1899  ffaccc44-6d9e-11ea-abf3-c412f533dba1             1             0   \n",
       "1900  ffc63684-20de-11eb-ac1d-c412f533dba1             1             0   \n",
       "\n",
       "          manager     club 7days_client_id new_7days_client_id  \\\n",
       "0     manager #13  club #3             NaN                 NaN   \n",
       "1         unknown  unknown             NaN                 NaN   \n",
       "2         unknown  unknown             NaN                 NaN   \n",
       "3      manager #1  club #1             NaN                 NaN   \n",
       "4      manager #1  club #1             NaN                 NaN   \n",
       "...           ...      ...             ...                 ...   \n",
       "1896   manager #9  club #3             NaN                 NaN   \n",
       "1897  manager #13  club #3             NaN                 NaN   \n",
       "1898  manager #10  club #2             NaN                 NaN   \n",
       "1899  manager #11  club #4             NaN                 NaN   \n",
       "1900   manager #5  club #4             NaN                 NaN   \n",
       "\n",
       "      new_7days_real_amount  \n",
       "0                       NaN  \n",
       "1                       NaN  \n",
       "2                       NaN  \n",
       "3                       NaN  \n",
       "4                       NaN  \n",
       "...                     ...  \n",
       "1896                    NaN  \n",
       "1897                    NaN  \n",
       "1898                    NaN  \n",
       "1899                    NaN  \n",
       "1900                    NaN  \n",
       "\n",
       "[1901 rows x 11 columns]"
      ]
     },
     "execution_count": 59,
     "metadata": {},
     "output_type": "execute_result"
    }
   ],
   "source": [
    "df"
   ]
  },
  {
   "cell_type": "markdown",
   "id": "b94fc6af",
   "metadata": {},
   "source": [
    "Проверим достаточность данных для определения нужных метрик:"
   ]
  },
  {
   "cell_type": "code",
   "execution_count": 60,
   "id": "5a337d96",
   "metadata": {},
   "outputs": [
    {
     "data": {
      "text/html": [
       "<div>\n",
       "<style scoped>\n",
       "    .dataframe tbody tr th:only-of-type {\n",
       "        vertical-align: middle;\n",
       "    }\n",
       "\n",
       "    .dataframe tbody tr th {\n",
       "        vertical-align: top;\n",
       "    }\n",
       "\n",
       "    .dataframe thead th {\n",
       "        text-align: right;\n",
       "    }\n",
       "</style>\n",
       "<table border=\"1\" class=\"dataframe\">\n",
       "  <thead>\n",
       "    <tr style=\"text-align: right;\">\n",
       "      <th></th>\n",
       "      <th></th>\n",
       "      <th>lead_id</th>\n",
       "      <th>bed_lead_num</th>\n",
       "      <th>new_lead_num</th>\n",
       "      <th>7days_client_id</th>\n",
       "      <th>new_7days_client_id</th>\n",
       "      <th>new_7days_real_amount</th>\n",
       "    </tr>\n",
       "    <tr>\n",
       "      <th>club</th>\n",
       "      <th>manager</th>\n",
       "      <th></th>\n",
       "      <th></th>\n",
       "      <th></th>\n",
       "      <th></th>\n",
       "      <th></th>\n",
       "      <th></th>\n",
       "    </tr>\n",
       "  </thead>\n",
       "  <tbody>\n",
       "    <tr>\n",
       "      <th rowspan=\"2\" valign=\"top\">club #1</th>\n",
       "      <th>manager #1</th>\n",
       "      <td>168</td>\n",
       "      <td>34</td>\n",
       "      <td>131</td>\n",
       "      <td>29</td>\n",
       "      <td>29</td>\n",
       "      <td>787162.0</td>\n",
       "    </tr>\n",
       "    <tr>\n",
       "      <th>manager #7</th>\n",
       "      <td>142</td>\n",
       "      <td>21</td>\n",
       "      <td>121</td>\n",
       "      <td>24</td>\n",
       "      <td>24</td>\n",
       "      <td>443186.0</td>\n",
       "    </tr>\n",
       "    <tr>\n",
       "      <th rowspan=\"3\" valign=\"top\">club #2</th>\n",
       "      <th>manager #10</th>\n",
       "      <td>105</td>\n",
       "      <td>1</td>\n",
       "      <td>104</td>\n",
       "      <td>28</td>\n",
       "      <td>28</td>\n",
       "      <td>937900.0</td>\n",
       "    </tr>\n",
       "    <tr>\n",
       "      <th>manager #4</th>\n",
       "      <td>166</td>\n",
       "      <td>1</td>\n",
       "      <td>163</td>\n",
       "      <td>31</td>\n",
       "      <td>31</td>\n",
       "      <td>897399.0</td>\n",
       "    </tr>\n",
       "    <tr>\n",
       "      <th>manager #8</th>\n",
       "      <td>135</td>\n",
       "      <td>6</td>\n",
       "      <td>124</td>\n",
       "      <td>29</td>\n",
       "      <td>27</td>\n",
       "      <td>564308.0</td>\n",
       "    </tr>\n",
       "    <tr>\n",
       "      <th rowspan=\"3\" valign=\"top\">club #3</th>\n",
       "      <th>manager #12</th>\n",
       "      <td>13</td>\n",
       "      <td>1</td>\n",
       "      <td>12</td>\n",
       "      <td>4</td>\n",
       "      <td>4</td>\n",
       "      <td>106654.0</td>\n",
       "    </tr>\n",
       "    <tr>\n",
       "      <th>manager #13</th>\n",
       "      <td>185</td>\n",
       "      <td>1</td>\n",
       "      <td>182</td>\n",
       "      <td>23</td>\n",
       "      <td>22</td>\n",
       "      <td>533711.0</td>\n",
       "    </tr>\n",
       "    <tr>\n",
       "      <th>manager #9</th>\n",
       "      <td>198</td>\n",
       "      <td>5</td>\n",
       "      <td>185</td>\n",
       "      <td>18</td>\n",
       "      <td>15</td>\n",
       "      <td>590731.0</td>\n",
       "    </tr>\n",
       "    <tr>\n",
       "      <th rowspan=\"3\" valign=\"top\">club #4</th>\n",
       "      <th>manager #11</th>\n",
       "      <td>179</td>\n",
       "      <td>64</td>\n",
       "      <td>103</td>\n",
       "      <td>26</td>\n",
       "      <td>26</td>\n",
       "      <td>512175.0</td>\n",
       "    </tr>\n",
       "    <tr>\n",
       "      <th>manager #2</th>\n",
       "      <td>122</td>\n",
       "      <td>13</td>\n",
       "      <td>105</td>\n",
       "      <td>25</td>\n",
       "      <td>24</td>\n",
       "      <td>581122.0</td>\n",
       "    </tr>\n",
       "    <tr>\n",
       "      <th>manager #5</th>\n",
       "      <td>162</td>\n",
       "      <td>25</td>\n",
       "      <td>133</td>\n",
       "      <td>26</td>\n",
       "      <td>25</td>\n",
       "      <td>496350.0</td>\n",
       "    </tr>\n",
       "    <tr>\n",
       "      <th>unknown</th>\n",
       "      <th>unknown</th>\n",
       "      <td>326</td>\n",
       "      <td>281</td>\n",
       "      <td>45</td>\n",
       "      <td>5</td>\n",
       "      <td>5</td>\n",
       "      <td>142535.0</td>\n",
       "    </tr>\n",
       "  </tbody>\n",
       "</table>\n",
       "</div>"
      ],
      "text/plain": [
       "                     lead_id  bed_lead_num  new_lead_num  7days_client_id  \\\n",
       "club    manager                                                             \n",
       "club #1 manager #1       168            34           131               29   \n",
       "        manager #7       142            21           121               24   \n",
       "club #2 manager #10      105             1           104               28   \n",
       "        manager #4       166             1           163               31   \n",
       "        manager #8       135             6           124               29   \n",
       "club #3 manager #12       13             1            12                4   \n",
       "        manager #13      185             1           182               23   \n",
       "        manager #9       198             5           185               18   \n",
       "club #4 manager #11      179            64           103               26   \n",
       "        manager #2       122            13           105               25   \n",
       "        manager #5       162            25           133               26   \n",
       "unknown unknown          326           281            45                5   \n",
       "\n",
       "                     new_7days_client_id  new_7days_real_amount  \n",
       "club    manager                                                  \n",
       "club #1 manager #1                    29               787162.0  \n",
       "        manager #7                    24               443186.0  \n",
       "club #2 manager #10                   28               937900.0  \n",
       "        manager #4                    31               897399.0  \n",
       "        manager #8                    27               564308.0  \n",
       "club #3 manager #12                    4               106654.0  \n",
       "        manager #13                   22               533711.0  \n",
       "        manager #9                    15               590731.0  \n",
       "club #4 manager #11                   26               512175.0  \n",
       "        manager #2                    24               581122.0  \n",
       "        manager #5                    25               496350.0  \n",
       "unknown unknown                        5               142535.0  "
      ]
     },
     "execution_count": 60,
     "metadata": {},
     "output_type": "execute_result"
    }
   ],
   "source": [
    "df.groupby(['club', 'manager'])\\\n",
    "    .agg({'lead_id':'count', 'bed_lead_num':'sum', 'new_lead_num':'sum', \n",
    "          '7days_client_id':'nunique', 'new_7days_client_id':'nunique',\n",
    "          'new_7days_real_amount':'sum'})"
   ]
  },
  {
   "cell_type": "code",
   "execution_count": 61,
   "id": "cca8431d",
   "metadata": {},
   "outputs": [
    {
     "data": {
      "text/html": [
       "<div>\n",
       "<style scoped>\n",
       "    .dataframe tbody tr th:only-of-type {\n",
       "        vertical-align: middle;\n",
       "    }\n",
       "\n",
       "    .dataframe tbody tr th {\n",
       "        vertical-align: top;\n",
       "    }\n",
       "\n",
       "    .dataframe thead th {\n",
       "        text-align: right;\n",
       "    }\n",
       "</style>\n",
       "<table border=\"1\" class=\"dataframe\">\n",
       "  <thead>\n",
       "    <tr style=\"text-align: right;\">\n",
       "      <th></th>\n",
       "      <th>lead_id</th>\n",
       "      <th>bed_lead_num</th>\n",
       "      <th>new_lead_num</th>\n",
       "      <th>7days_client_id</th>\n",
       "      <th>new_7days_client_id</th>\n",
       "      <th>new_7days_real_amount</th>\n",
       "    </tr>\n",
       "    <tr>\n",
       "      <th>source</th>\n",
       "      <th></th>\n",
       "      <th></th>\n",
       "      <th></th>\n",
       "      <th></th>\n",
       "      <th></th>\n",
       "      <th></th>\n",
       "    </tr>\n",
       "  </thead>\n",
       "  <tbody>\n",
       "    <tr>\n",
       "      <th>unknown</th>\n",
       "      <td>785</td>\n",
       "      <td>338</td>\n",
       "      <td>446</td>\n",
       "      <td>70</td>\n",
       "      <td>70</td>\n",
       "      <td>1957197.0</td>\n",
       "    </tr>\n",
       "    <tr>\n",
       "      <th>instagram</th>\n",
       "      <td>590</td>\n",
       "      <td>62</td>\n",
       "      <td>506</td>\n",
       "      <td>99</td>\n",
       "      <td>94</td>\n",
       "      <td>1395908.0</td>\n",
       "    </tr>\n",
       "    <tr>\n",
       "      <th>utm_source</th>\n",
       "      <td>153</td>\n",
       "      <td>12</td>\n",
       "      <td>141</td>\n",
       "      <td>30</td>\n",
       "      <td>30</td>\n",
       "      <td>1126387.0</td>\n",
       "    </tr>\n",
       "    <tr>\n",
       "      <th>viber</th>\n",
       "      <td>144</td>\n",
       "      <td>16</td>\n",
       "      <td>120</td>\n",
       "      <td>24</td>\n",
       "      <td>22</td>\n",
       "      <td>672824.0</td>\n",
       "    </tr>\n",
       "    <tr>\n",
       "      <th>vkontakte</th>\n",
       "      <td>80</td>\n",
       "      <td>8</td>\n",
       "      <td>70</td>\n",
       "      <td>20</td>\n",
       "      <td>20</td>\n",
       "      <td>607755.0</td>\n",
       "    </tr>\n",
       "    <tr>\n",
       "      <th>yandex</th>\n",
       "      <td>71</td>\n",
       "      <td>5</td>\n",
       "      <td>63</td>\n",
       "      <td>13</td>\n",
       "      <td>12</td>\n",
       "      <td>575357.0</td>\n",
       "    </tr>\n",
       "    <tr>\n",
       "      <th>google</th>\n",
       "      <td>67</td>\n",
       "      <td>12</td>\n",
       "      <td>51</td>\n",
       "      <td>9</td>\n",
       "      <td>9</td>\n",
       "      <td>178984.0</td>\n",
       "    </tr>\n",
       "    <tr>\n",
       "      <th>sms</th>\n",
       "      <td>5</td>\n",
       "      <td>0</td>\n",
       "      <td>5</td>\n",
       "      <td>1</td>\n",
       "      <td>1</td>\n",
       "      <td>75151.0</td>\n",
       "    </tr>\n",
       "    <tr>\n",
       "      <th>ycard</th>\n",
       "      <td>6</td>\n",
       "      <td>0</td>\n",
       "      <td>6</td>\n",
       "      <td>1</td>\n",
       "      <td>1</td>\n",
       "      <td>3670.0</td>\n",
       "    </tr>\n",
       "  </tbody>\n",
       "</table>\n",
       "</div>"
      ],
      "text/plain": [
       "            lead_id  bed_lead_num  new_lead_num  7days_client_id  \\\n",
       "source                                                             \n",
       "unknown         785           338           446               70   \n",
       "instagram       590            62           506               99   \n",
       "utm_source      153            12           141               30   \n",
       "viber           144            16           120               24   \n",
       "vkontakte        80             8            70               20   \n",
       "yandex           71             5            63               13   \n",
       "google           67            12            51                9   \n",
       "sms               5             0             5                1   \n",
       "ycard             6             0             6                1   \n",
       "\n",
       "            new_7days_client_id  new_7days_real_amount  \n",
       "source                                                  \n",
       "unknown                      70              1957197.0  \n",
       "instagram                    94              1395908.0  \n",
       "utm_source                   30              1126387.0  \n",
       "viber                        22               672824.0  \n",
       "vkontakte                    20               607755.0  \n",
       "yandex                       12               575357.0  \n",
       "google                        9               178984.0  \n",
       "sms                           1                75151.0  \n",
       "ycard                         1                 3670.0  "
      ]
     },
     "execution_count": 61,
     "metadata": {},
     "output_type": "execute_result"
    }
   ],
   "source": [
    "df.groupby('source')\\\n",
    "    .agg({'lead_id':'count', 'bed_lead_num':'sum', 'new_lead_num':'sum', \n",
    "          '7days_client_id':'nunique', 'new_7days_client_id':'nunique',\n",
    "          'new_7days_real_amount':'sum'})\\\n",
    "    .sort_values(by='new_7days_real_amount', ascending=False)"
   ]
  },
  {
   "cell_type": "markdown",
   "id": "0794c554",
   "metadata": {},
   "source": [
    "Все \"Ок\". Экспортируем данные в таблицу test_dor и там уже согласно задания соберем пивотники.\n",
    "(https://docs.google.com/spreadsheets/d/13gtDTG_NLRwTtGXNhlJk0Gn-xx1MmuSpu8RjEFVizpA/edit?usp=sharing)"
   ]
  },
  {
   "cell_type": "code",
   "execution_count": 62,
   "id": "23470ba6",
   "metadata": {},
   "outputs": [],
   "source": [
    "sh = gc.open_by_key('13gtDTG_NLRwTtGXNhlJk0Gn-xx1MmuSpu8RjEFVizpA')\n",
    "worksheet = sh.get_worksheet(1)"
   ]
  },
  {
   "cell_type": "code",
   "execution_count": 63,
   "id": "e45e3835",
   "metadata": {},
   "outputs": [
    {
     "data": {
      "text/plain": [
       "{'spreadsheetId': '13gtDTG_NLRwTtGXNhlJk0Gn-xx1MmuSpu8RjEFVizpA',\n",
       " 'clearedRange': \"'Лист1'!A2:M100000\"}"
      ]
     },
     "execution_count": 63,
     "metadata": {},
     "output_type": "execute_result"
    }
   ],
   "source": [
    "sh.values_clear(\"'Лист1'!A2:M100000\") #Очистим диапозон"
   ]
  },
  {
   "cell_type": "code",
   "execution_count": 64,
   "id": "fce99237",
   "metadata": {},
   "outputs": [],
   "source": [
    "set_with_dataframe(worksheet, df)"
   ]
  },
  {
   "cell_type": "markdown",
   "id": "f6e62459",
   "metadata": {},
   "source": [
    "**Создадим пайплайн**, который будет импортировать данные из исходного гугл-шитс, предобрабатывать их и экспортировать в другую книгу гугл-шитс с уже готовым пивотником.\n",
    "Необходимый диапозон дат будем указывать в командной строке при запуске скрипта:   \n",
    "`python test.py --start_dt='2020-10-01' --end_dt='2020-10-05'`\n",
    "\n",
    "test.py - https://drive.google.com/file/d/1K-SZEPgoke8N3tmVBWrJbgz7Rz54DhcL/view?usp=sharing\n",
    "\n",
    "Дополнительно создадим дашборд Tableau для среза по источникам: https://public.tableau.com/app/profile/den3d/viz/Test202105/Dashboard2\n",
    "\n",
    "(к сожалению в бесплатной версии не получилось сделать автообновление при изменении нашего гугл-шита, только через запуск Tableau на десктопе)"
   ]
  },
  {
   "cell_type": "code",
   "execution_count": null,
   "id": "5a7bf818",
   "metadata": {},
   "outputs": [],
   "source": []
  }
 ],
 "metadata": {
  "kernelspec": {
   "display_name": "Python 3",
   "language": "python",
   "name": "python3"
  },
  "language_info": {
   "codemirror_mode": {
    "name": "ipython",
    "version": 3
   },
   "file_extension": ".py",
   "mimetype": "text/x-python",
   "name": "python",
   "nbconvert_exporter": "python",
   "pygments_lexer": "ipython3",
   "version": "3.8.8"
  }
 },
 "nbformat": 4,
 "nbformat_minor": 5
}
